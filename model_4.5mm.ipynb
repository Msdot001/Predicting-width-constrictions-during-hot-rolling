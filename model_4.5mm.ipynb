{
 "cells": [
  {
   "cell_type": "code",
   "execution_count": 1,
   "metadata": {},
   "outputs": [],
   "source": [
    "# import library \n",
    "\n",
    "import pandas as pd\n",
    "import numpy as np\n",
    "import matplotlib.pyplot as plt\n",
    "\n",
    "\n",
    "from sklearn.metrics import accuracy_score\n",
    "from sklearn.metrics import balanced_accuracy_score\n",
    "from sklearn.metrics import recall_score\n",
    "from sklearn.metrics import precision_score\n",
    "from sklearn.metrics import f1_score\n"
   ]
  },
  {
   "cell_type": "code",
   "execution_count": 2,
   "metadata": {},
   "outputs": [
    {
     "data": {
      "text/html": [
       "<div>\n",
       "<style scoped>\n",
       "    .dataframe tbody tr th:only-of-type {\n",
       "        vertical-align: middle;\n",
       "    }\n",
       "\n",
       "    .dataframe tbody tr th {\n",
       "        vertical-align: top;\n",
       "    }\n",
       "\n",
       "    .dataframe thead th {\n",
       "        text-align: right;\n",
       "    }\n",
       "</style>\n",
       "<table border=\"1\" class=\"dataframe\">\n",
       "  <thead>\n",
       "    <tr style=\"text-align: right;\">\n",
       "      <th></th>\n",
       "      <th>Unnamed: 0</th>\n",
       "      <th>coil</th>\n",
       "      <th>furnace Number</th>\n",
       "      <th>analyse</th>\n",
       "      <th>Hardness_1</th>\n",
       "      <th>Hardness_2</th>\n",
       "      <th>Width</th>\n",
       "      <th>Temperature before finishing mill</th>\n",
       "      <th>Temperature after finishing mill</th>\n",
       "      <th>Thickness</th>\n",
       "      <th>...</th>\n",
       "      <th>al</th>\n",
       "      <th>ma</th>\n",
       "      <th>b</th>\n",
       "      <th>n</th>\n",
       "      <th>ti</th>\n",
       "      <th>cr</th>\n",
       "      <th>va</th>\n",
       "      <th>mo</th>\n",
       "      <th>difference</th>\n",
       "      <th>constriction</th>\n",
       "    </tr>\n",
       "  </thead>\n",
       "  <tbody>\n",
       "    <tr>\n",
       "      <th>0</th>\n",
       "      <td>0</td>\n",
       "      <td>396378</td>\n",
       "      <td>1</td>\n",
       "      <td>K371</td>\n",
       "      <td>10003</td>\n",
       "      <td>101</td>\n",
       "      <td>1302.1</td>\n",
       "      <td>1147</td>\n",
       "      <td>921</td>\n",
       "      <td>4.36</td>\n",
       "      <td>...</td>\n",
       "      <td>304</td>\n",
       "      <td>291</td>\n",
       "      <td>1</td>\n",
       "      <td>34</td>\n",
       "      <td>6</td>\n",
       "      <td>302</td>\n",
       "      <td>0</td>\n",
       "      <td>25</td>\n",
       "      <td>-0.783333</td>\n",
       "      <td>0</td>\n",
       "    </tr>\n",
       "    <tr>\n",
       "      <th>1</th>\n",
       "      <td>1</td>\n",
       "      <td>396376</td>\n",
       "      <td>3</td>\n",
       "      <td>K371</td>\n",
       "      <td>10123</td>\n",
       "      <td>101</td>\n",
       "      <td>1282.3</td>\n",
       "      <td>1150</td>\n",
       "      <td>920</td>\n",
       "      <td>4.37</td>\n",
       "      <td>...</td>\n",
       "      <td>395</td>\n",
       "      <td>384</td>\n",
       "      <td>1</td>\n",
       "      <td>33</td>\n",
       "      <td>12</td>\n",
       "      <td>189</td>\n",
       "      <td>25</td>\n",
       "      <td>7</td>\n",
       "      <td>-0.300000</td>\n",
       "      <td>0</td>\n",
       "    </tr>\n",
       "    <tr>\n",
       "      <th>2</th>\n",
       "      <td>2</td>\n",
       "      <td>396377</td>\n",
       "      <td>4</td>\n",
       "      <td>K321</td>\n",
       "      <td>10040</td>\n",
       "      <td>102</td>\n",
       "      <td>1297.4</td>\n",
       "      <td>1183</td>\n",
       "      <td>933</td>\n",
       "      <td>4.43</td>\n",
       "      <td>...</td>\n",
       "      <td>476</td>\n",
       "      <td>463</td>\n",
       "      <td>1</td>\n",
       "      <td>20</td>\n",
       "      <td>11</td>\n",
       "      <td>288</td>\n",
       "      <td>0</td>\n",
       "      <td>40</td>\n",
       "      <td>-1.866667</td>\n",
       "      <td>0</td>\n",
       "    </tr>\n",
       "    <tr>\n",
       "      <th>3</th>\n",
       "      <td>3</td>\n",
       "      <td>396379</td>\n",
       "      <td>3</td>\n",
       "      <td>K371</td>\n",
       "      <td>10243</td>\n",
       "      <td>102</td>\n",
       "      <td>1295.2</td>\n",
       "      <td>1165</td>\n",
       "      <td>910</td>\n",
       "      <td>4.44</td>\n",
       "      <td>...</td>\n",
       "      <td>306</td>\n",
       "      <td>296</td>\n",
       "      <td>1</td>\n",
       "      <td>21</td>\n",
       "      <td>9</td>\n",
       "      <td>253</td>\n",
       "      <td>0</td>\n",
       "      <td>9</td>\n",
       "      <td>-0.166667</td>\n",
       "      <td>0</td>\n",
       "    </tr>\n",
       "    <tr>\n",
       "      <th>4</th>\n",
       "      <td>4</td>\n",
       "      <td>396380</td>\n",
       "      <td>4</td>\n",
       "      <td>K321</td>\n",
       "      <td>10012</td>\n",
       "      <td>100</td>\n",
       "      <td>1293.3</td>\n",
       "      <td>1192</td>\n",
       "      <td>909</td>\n",
       "      <td>3.95</td>\n",
       "      <td>...</td>\n",
       "      <td>340</td>\n",
       "      <td>329</td>\n",
       "      <td>1</td>\n",
       "      <td>28</td>\n",
       "      <td>8</td>\n",
       "      <td>297</td>\n",
       "      <td>0</td>\n",
       "      <td>23</td>\n",
       "      <td>-0.800000</td>\n",
       "      <td>0</td>\n",
       "    </tr>\n",
       "  </tbody>\n",
       "</table>\n",
       "<p>5 rows × 27 columns</p>\n",
       "</div>"
      ],
      "text/plain": [
       "   Unnamed: 0    coil  furnace Number analyse  Hardness_1  Hardness_2   Width  \\\n",
       "0           0  396378               1   K371        10003         101  1302.1   \n",
       "1           1  396376               3   K371        10123         101  1282.3   \n",
       "2           2  396377               4   K321        10040         102  1297.4   \n",
       "3           3  396379               3   K371        10243         102  1295.2   \n",
       "4           4  396380               4   K321        10012         100  1293.3   \n",
       "\n",
       "   Temperature before finishing mill  Temperature after finishing mill  \\\n",
       "0                               1147                               921   \n",
       "1                               1150                               920   \n",
       "2                               1183                               933   \n",
       "3                               1165                               910   \n",
       "4                               1192                               909   \n",
       "\n",
       "   Thickness  ...   al   ma  b   n  ti   cr  va  mo  difference  constriction  \n",
       "0       4.36  ...  304  291  1  34   6  302   0  25   -0.783333             0  \n",
       "1       4.37  ...  395  384  1  33  12  189  25   7   -0.300000             0  \n",
       "2       4.43  ...  476  463  1  20  11  288   0  40   -1.866667             0  \n",
       "3       4.44  ...  306  296  1  21   9  253   0   9   -0.166667             0  \n",
       "4       3.95  ...  340  329  1  28   8  297   0  23   -0.800000             0  \n",
       "\n",
       "[5 rows x 27 columns]"
      ]
     },
     "execution_count": 2,
     "metadata": {},
     "output_type": "execute_result"
    }
   ],
   "source": [
    "# setting difference to be 4\n",
    "\n",
    "df = pd.read_csv(r'C:\\Users\\masud\\Documents\\Steel-Project\\Final_4.5.csv')\n",
    "df.head()"
   ]
  },
  {
   "cell_type": "code",
   "execution_count": 3,
   "metadata": {},
   "outputs": [],
   "source": [
    "# drop column\n",
    "df = df.drop(['Unnamed: 0','Thickness profile','difference'], axis = 1)\n",
    "\n",
    "#df"
   ]
  },
  {
   "cell_type": "code",
   "execution_count": 4,
   "metadata": {},
   "outputs": [
    {
     "data": {
      "text/plain": [
       "Index(['coil', 'furnace Number', 'analyse', 'Hardness_1', 'Hardness_2',\n",
       "       'Width', 'Temperature before finishing mill',\n",
       "       'Temperature after finishing mill', 'Thickness', 'c', 'mn', 'si', 'nb',\n",
       "       'p', 's', 'al', 'ma', 'b', 'n', 'ti', 'cr', 'va', 'mo', 'constriction'],\n",
       "      dtype='object')"
      ]
     },
     "execution_count": 4,
     "metadata": {},
     "output_type": "execute_result"
    }
   ],
   "source": [
    "df.columns"
   ]
  },
  {
   "cell_type": "code",
   "execution_count": 5,
   "metadata": {},
   "outputs": [],
   "source": [
    "#Extracting independent variable\n",
    "X= df[['Width','Temperature before finishing mill','al','b', 'ma','nb']].values"
   ]
  },
  {
   "cell_type": "code",
   "execution_count": 6,
   "metadata": {},
   "outputs": [
    {
     "data": {
      "text/plain": [
       "array([0, 0, 0, ..., 0, 0, 1], dtype=int64)"
      ]
     },
     "execution_count": 6,
     "metadata": {},
     "output_type": "execute_result"
    }
   ],
   "source": [
    "#Extracting dependent variable\n",
    "y= df.iloc[:,-1].values \n",
    "y"
   ]
  },
  {
   "cell_type": "code",
   "execution_count": 7,
   "metadata": {},
   "outputs": [],
   "source": [
    "#For splitting the dataset, \n",
    "\n",
    "from sklearn.model_selection import train_test_split  \n",
    "X_train, X_test, y_train, y_test= train_test_split(X, y, test_size= 0.2, random_state=0)  "
   ]
  },
  {
   "cell_type": "code",
   "execution_count": 8,
   "metadata": {},
   "outputs": [],
   "source": [
    "# feature scaling \n",
    "\n",
    "from sklearn.preprocessing import StandardScaler \n",
    "\n",
    "# fitting  and transforming the training dataset.\n",
    "\n",
    "st_x= StandardScaler()  \n",
    "X_train= st_x.fit_transform(X_train)\n"
   ]
  },
  {
   "cell_type": "code",
   "execution_count": 9,
   "metadata": {},
   "outputs": [],
   "source": [
    "# fitting  and transforming the test dataset\n",
    "X_test= st_x.transform(X_test)"
   ]
  },
  {
   "cell_type": "code",
   "execution_count": 10,
   "metadata": {},
   "outputs": [],
   "source": [
    "from sklearn.preprocessing import MinMaxScaler #fixed import\n",
    "\n",
    "scaler = MinMaxScaler()\n",
    "X_train = scaler.fit_transform(X_train)\n",
    "X_test = scaler.transform(X_test)"
   ]
  },
  {
   "cell_type": "markdown",
   "metadata": {},
   "source": [
    "# Different Binary Classification Algorithms"
   ]
  },
  {
   "cell_type": "code",
   "execution_count": 11,
   "metadata": {},
   "outputs": [
    {
     "name": "stdout",
     "output_type": "stream",
     "text": [
      "score on test: 0.915277030661646\n",
      "score on train: 0.9116888938697747\n"
     ]
    }
   ],
   "source": [
    "#1  Naive Bayes\n",
    "\n",
    "from sklearn.naive_bayes import MultinomialNB\n",
    "\n",
    "mnb = MultinomialNB().fit(X_train, y_train)\n",
    "print(\"score on test: \" + str(mnb.score(X_test, y_test)))\n",
    "print(\"score on train: \"+ str(mnb.score(X_train, y_train)))\n",
    "\n",
    "\n",
    "#Applying prediction on tested dataset \n",
    "preds = mnb.predict(X_test)\n",
    "\n",
    "\n",
    "\n",
    "#score on test: 0.915277030661646\n",
    "#score on train: 0.9116888938697747\n",
    "\n",
    "# duration: 0.2s"
   ]
  },
  {
   "cell_type": "code",
   "execution_count": 12,
   "metadata": {},
   "outputs": [
    {
     "name": "stderr",
     "output_type": "stream",
     "text": [
      "C:\\Users\\masud\\AppData\\Local\\Programs\\Python\\Python310\\lib\\site-packages\\sklearn\\utils\\deprecation.py:87: FutureWarning: Function plot_confusion_matrix is deprecated; Function `plot_confusion_matrix` is deprecated in 1.0 and will be removed in 1.2. Use one of the class methods: ConfusionMatrixDisplay.from_predictions or ConfusionMatrixDisplay.from_estimator.\n",
      "  warnings.warn(msg, category=FutureWarning)\n"
     ]
    },
    {
     "data": {
      "text/plain": [
       "<sklearn.metrics._plot.confusion_matrix.ConfusionMatrixDisplay at 0x18d4832c430>"
      ]
     },
     "execution_count": 12,
     "metadata": {},
     "output_type": "execute_result"
    },
    {
     "data": {
      "image/png": "[encoded data removed]",
      "text/plain": [
       "<Figure size 432x288 with 2 Axes>"
      ]
     },
     "metadata": {
      "needs_background": "light"
     },
     "output_type": "display_data"
    }
   ],
   "source": [
    "from sklearn import metrics\n",
    "\n",
    "metrics.plot_confusion_matrix(mnb, X_test, y_test, display_labels=['No constriction', 'Constriction'])"
   ]
  },
  {
   "cell_type": "code",
   "execution_count": 13,
   "metadata": {},
   "outputs": [
    {
     "data": {
      "text/plain": [
       "(0.0, 0.9557646397977811)"
      ]
     },
     "execution_count": 13,
     "metadata": {},
     "output_type": "execute_result"
    }
   ],
   "source": [
    "f1_positive = metrics.f1_score(y_test, preds, pos_label=1)\n",
    "f1_negative = metrics.f1_score(y_test, preds, pos_label=0)\n",
    "f1_positive, f1_negative "
   ]
  },
  {
   "cell_type": "code",
   "execution_count": 14,
   "metadata": {},
   "outputs": [
    {
     "name": "stdout",
     "output_type": "stream",
     "text": [
      "              precision    recall  f1-score   support\n",
      "\n",
      "           0       0.92      1.00      0.96     10209\n",
      "           1       0.00      0.00      0.00       945\n",
      "\n",
      "    accuracy                           0.92     11154\n",
      "   macro avg       0.46      0.50      0.48     11154\n",
      "weighted avg       0.84      0.92      0.87     11154\n",
      "\n"
     ]
    },
    {
     "name": "stderr",
     "output_type": "stream",
     "text": [
      "C:\\Users\\masud\\AppData\\Local\\Programs\\Python\\Python310\\lib\\site-packages\\sklearn\\metrics\\_classification.py:1318: UndefinedMetricWarning: Precision and F-score are ill-defined and being set to 0.0 in labels with no predicted samples. Use `zero_division` parameter to control this behavior.\n",
      "  _warn_prf(average, modifier, msg_start, len(result))\n",
      "C:\\Users\\masud\\AppData\\Local\\Programs\\Python\\Python310\\lib\\site-packages\\sklearn\\metrics\\_classification.py:1318: UndefinedMetricWarning: Precision and F-score are ill-defined and being set to 0.0 in labels with no predicted samples. Use `zero_division` parameter to control this behavior.\n",
      "  _warn_prf(average, modifier, msg_start, len(result))\n",
      "C:\\Users\\masud\\AppData\\Local\\Programs\\Python\\Python310\\lib\\site-packages\\sklearn\\metrics\\_classification.py:1318: UndefinedMetricWarning: Precision and F-score are ill-defined and being set to 0.0 in labels with no predicted samples. Use `zero_division` parameter to control this behavior.\n",
      "  _warn_prf(average, modifier, msg_start, len(result))\n"
     ]
    }
   ],
   "source": [
    "print(metrics.classification_report(y_test, preds))"
   ]
  },
  {
   "cell_type": "code",
   "execution_count": 41,
   "metadata": {},
   "outputs": [
    {
     "name": "stdout",
     "output_type": "stream",
     "text": [
      "F1 is:  0.0\n"
     ]
    }
   ],
   "source": [
    "print('F1 is: ', f1_score(y_test, preds))"
   ]
  },
  {
   "cell_type": "code",
   "execution_count": 15,
   "metadata": {},
   "outputs": [
    {
     "name": "stdout",
     "output_type": "stream",
     "text": [
      "score on test: 0.915277030661646\n",
      "score on train: 0.9115544099518099\n"
     ]
    }
   ],
   "source": [
    "#2  Logistic Regression\n",
    "\n",
    "from sklearn.linear_model import LogisticRegression\n",
    "\n",
    "lr=LogisticRegression(max_iter=100)\n",
    "model = lr.fit(X_train, y_train)\n",
    "\n",
    "print(\"score on test: \" + str(lr.score(X_test, y_test)))\n",
    "print(\"score on train: \"+ str(lr.score(X_train, y_train)))\n",
    "\n",
    "#Applying prediction on tested dataset \n",
    "pred2 = model.predict(X_test)\n",
    "\n",
    "#score on test: 0.915277030661646\n",
    "#score on train: 0.9115544099518099\n",
    "\n",
    "# duration: 0.2s"
   ]
  },
  {
   "cell_type": "code",
   "execution_count": 16,
   "metadata": {},
   "outputs": [
    {
     "name": "stderr",
     "output_type": "stream",
     "text": [
      "C:\\Users\\masud\\AppData\\Local\\Programs\\Python\\Python310\\lib\\site-packages\\sklearn\\utils\\deprecation.py:87: FutureWarning: Function plot_confusion_matrix is deprecated; Function `plot_confusion_matrix` is deprecated in 1.0 and will be removed in 1.2. Use one of the class methods: ConfusionMatrixDisplay.from_predictions or ConfusionMatrixDisplay.from_estimator.\n",
      "  warnings.warn(msg, category=FutureWarning)\n"
     ]
    },
    {
     "data": {
      "text/plain": [
       "<sklearn.metrics._plot.confusion_matrix.ConfusionMatrixDisplay at 0x18d49423fa0>"
      ]
     },
     "execution_count": 16,
     "metadata": {},
     "output_type": "execute_result"
    },
    {
     "data": {
      "image/png": "[encoded data removed]",
      "text/plain": [
       "<Figure size 432x288 with 2 Axes>"
      ]
     },
     "metadata": {
      "needs_background": "light"
     },
     "output_type": "display_data"
    }
   ],
   "source": [
    "from sklearn import metrics\n",
    "\n",
    "metrics.plot_confusion_matrix(model, X_test, y_test, display_labels=['No constriction', 'Constriction'])"
   ]
  },
  {
   "cell_type": "code",
   "execution_count": 17,
   "metadata": {},
   "outputs": [
    {
     "name": "stdout",
     "output_type": "stream",
     "text": [
      "              precision    recall  f1-score   support\n",
      "\n",
      "           0       0.92      1.00      0.96     10209\n",
      "           1       0.00      0.00      0.00       945\n",
      "\n",
      "    accuracy                           0.92     11154\n",
      "   macro avg       0.46      0.50      0.48     11154\n",
      "weighted avg       0.84      0.92      0.87     11154\n",
      "\n"
     ]
    },
    {
     "name": "stderr",
     "output_type": "stream",
     "text": [
      "C:\\Users\\masud\\AppData\\Local\\Programs\\Python\\Python310\\lib\\site-packages\\sklearn\\metrics\\_classification.py:1318: UndefinedMetricWarning: Precision and F-score are ill-defined and being set to 0.0 in labels with no predicted samples. Use `zero_division` parameter to control this behavior.\n",
      "  _warn_prf(average, modifier, msg_start, len(result))\n",
      "C:\\Users\\masud\\AppData\\Local\\Programs\\Python\\Python310\\lib\\site-packages\\sklearn\\metrics\\_classification.py:1318: UndefinedMetricWarning: Precision and F-score are ill-defined and being set to 0.0 in labels with no predicted samples. Use `zero_division` parameter to control this behavior.\n",
      "  _warn_prf(average, modifier, msg_start, len(result))\n",
      "C:\\Users\\masud\\AppData\\Local\\Programs\\Python\\Python310\\lib\\site-packages\\sklearn\\metrics\\_classification.py:1318: UndefinedMetricWarning: Precision and F-score are ill-defined and being set to 0.0 in labels with no predicted samples. Use `zero_division` parameter to control this behavior.\n",
      "  _warn_prf(average, modifier, msg_start, len(result))\n"
     ]
    }
   ],
   "source": [
    "print(metrics.classification_report(y_test, pred2))"
   ]
  },
  {
   "cell_type": "code",
   "execution_count": 42,
   "metadata": {},
   "outputs": [
    {
     "name": "stdout",
     "output_type": "stream",
     "text": [
      "F1 is:  0.0\n"
     ]
    }
   ],
   "source": [
    "print('F1 is: ', f1_score(y_test, pred2))"
   ]
  },
  {
   "cell_type": "code",
   "execution_count": 18,
   "metadata": {},
   "outputs": [
    {
     "name": "stdout",
     "output_type": "stream",
     "text": [
      "train shape: (44615, 6)\n",
      "score on test: 0.921911421911422\n",
      "score on train: 0.9313011319063096\n"
     ]
    }
   ],
   "source": [
    "# K-Nearest Neighbours\n",
    "\n",
    "from sklearn.neighbors import KNeighborsClassifier\n",
    "\n",
    "knn = KNeighborsClassifier(algorithm = 'brute', n_jobs=-1)\n",
    "model2 = knn.fit(X_train, y_train)\n",
    "print(\"train shape: \" + str(X_train.shape))\n",
    "print(\"score on test: \" + str(knn.score(X_test, y_test)))\n",
    "print(\"score on train: \"+ str(knn.score(X_train, y_train)))\n",
    "\n",
    "pred3 = model2.predict(X_test)\n",
    "\n",
    "#train shape: (44615, 6)\n",
    "#score on test: 0.921911421911422\n",
    "#score on train: 0.9313011319063096\n",
    "\n",
    "#durations: 1m 46.1s\n"
   ]
  },
  {
   "cell_type": "code",
   "execution_count": 19,
   "metadata": {},
   "outputs": [
    {
     "name": "stderr",
     "output_type": "stream",
     "text": [
      "C:\\Users\\masud\\AppData\\Local\\Programs\\Python\\Python310\\lib\\site-packages\\sklearn\\utils\\deprecation.py:87: FutureWarning: Function plot_confusion_matrix is deprecated; Function `plot_confusion_matrix` is deprecated in 1.0 and will be removed in 1.2. Use one of the class methods: ConfusionMatrixDisplay.from_predictions or ConfusionMatrixDisplay.from_estimator.\n",
      "  warnings.warn(msg, category=FutureWarning)\n"
     ]
    },
    {
     "data": {
      "text/plain": [
       "<sklearn.metrics._plot.confusion_matrix.ConfusionMatrixDisplay at 0x18d4946c190>"
      ]
     },
     "execution_count": 19,
     "metadata": {},
     "output_type": "execute_result"
    },
    {
     "data": {
      "image/png": "[encoded data removed]",
      "text/plain": [
       "<Figure size 432x288 with 2 Axes>"
      ]
     },
     "metadata": {
      "needs_background": "light"
     },
     "output_type": "display_data"
    }
   ],
   "source": [
    "metrics.plot_confusion_matrix(model2, X_test, y_test, display_labels=['No constriction', 'Constriction'])"
   ]
  },
  {
   "cell_type": "code",
   "execution_count": 20,
   "metadata": {},
   "outputs": [
    {
     "name": "stdout",
     "output_type": "stream",
     "text": [
      "              precision    recall  f1-score   support\n",
      "\n",
      "           0       0.94      0.98      0.96     10209\n",
      "           1       0.58      0.29      0.39       945\n",
      "\n",
      "    accuracy                           0.92     11154\n",
      "   macro avg       0.76      0.64      0.67     11154\n",
      "weighted avg       0.91      0.92      0.91     11154\n",
      "\n"
     ]
    }
   ],
   "source": [
    "print(metrics.classification_report(y_test, pred3))"
   ]
  },
  {
   "cell_type": "code",
   "execution_count": 21,
   "metadata": {},
   "outputs": [
    {
     "name": "stdout",
     "output_type": "stream",
     "text": [
      "score on test: 0.915277030661646\n",
      "score on train: 0.9116888938697747\n"
     ]
    }
   ],
   "source": [
    "# Support Vector Machine\n",
    "\n",
    "from sklearn.svm import LinearSVC\n",
    "\n",
    "svm=LinearSVC(C=0.0001)\n",
    "model_svm= svm.fit(X_train, y_train)\n",
    "print(\"score on test: \" + str(svm.score(X_test, y_test)))\n",
    "print(\"score on train: \"+ str(svm.score(X_train, y_train)))\n",
    "\n",
    "\n",
    "pred_svm =model_svm.predict(X_test)\n",
    "\n",
    "#score on test: 0.915277030661646\n",
    "#score on train: 0.9116888938697747\n",
    "\n",
    "#duration 0.1s"
   ]
  },
  {
   "cell_type": "code",
   "execution_count": 22,
   "metadata": {},
   "outputs": [
    {
     "name": "stderr",
     "output_type": "stream",
     "text": [
      "C:\\Users\\masud\\AppData\\Local\\Programs\\Python\\Python310\\lib\\site-packages\\sklearn\\utils\\deprecation.py:87: FutureWarning: Function plot_confusion_matrix is deprecated; Function `plot_confusion_matrix` is deprecated in 1.0 and will be removed in 1.2. Use one of the class methods: ConfusionMatrixDisplay.from_predictions or ConfusionMatrixDisplay.from_estimator.\n",
      "  warnings.warn(msg, category=FutureWarning)\n"
     ]
    },
    {
     "data": {
      "text/plain": [
       "<sklearn.metrics._plot.confusion_matrix.ConfusionMatrixDisplay at 0x18d4856e350>"
      ]
     },
     "execution_count": 22,
     "metadata": {},
     "output_type": "execute_result"
    },
    {
     "data": {
      "image/png": "[encoded data removed]",
      "text/plain": [
       "<Figure size 432x288 with 2 Axes>"
      ]
     },
     "metadata": {
      "needs_background": "light"
     },
     "output_type": "display_data"
    }
   ],
   "source": [
    "metrics.plot_confusion_matrix(model_svm, X_test, y_test, display_labels=['No constriction', 'Constriction'])"
   ]
  },
  {
   "cell_type": "code",
   "execution_count": 23,
   "metadata": {},
   "outputs": [
    {
     "name": "stdout",
     "output_type": "stream",
     "text": [
      "              precision    recall  f1-score   support\n",
      "\n",
      "           0       0.92      1.00      0.96     10209\n",
      "           1       0.00      0.00      0.00       945\n",
      "\n",
      "    accuracy                           0.92     11154\n",
      "   macro avg       0.46      0.50      0.48     11154\n",
      "weighted avg       0.84      0.92      0.87     11154\n",
      "\n"
     ]
    },
    {
     "name": "stderr",
     "output_type": "stream",
     "text": [
      "C:\\Users\\masud\\AppData\\Local\\Programs\\Python\\Python310\\lib\\site-packages\\sklearn\\metrics\\_classification.py:1318: UndefinedMetricWarning: Precision and F-score are ill-defined and being set to 0.0 in labels with no predicted samples. Use `zero_division` parameter to control this behavior.\n",
      "  _warn_prf(average, modifier, msg_start, len(result))\n",
      "C:\\Users\\masud\\AppData\\Local\\Programs\\Python\\Python310\\lib\\site-packages\\sklearn\\metrics\\_classification.py:1318: UndefinedMetricWarning: Precision and F-score are ill-defined and being set to 0.0 in labels with no predicted samples. Use `zero_division` parameter to control this behavior.\n",
      "  _warn_prf(average, modifier, msg_start, len(result))\n",
      "C:\\Users\\masud\\AppData\\Local\\Programs\\Python\\Python310\\lib\\site-packages\\sklearn\\metrics\\_classification.py:1318: UndefinedMetricWarning: Precision and F-score are ill-defined and being set to 0.0 in labels with no predicted samples. Use `zero_division` parameter to control this behavior.\n",
      "  _warn_prf(average, modifier, msg_start, len(result))\n"
     ]
    }
   ],
   "source": [
    "print(metrics.classification_report(y_test,pred_svm))"
   ]
  },
  {
   "cell_type": "code",
   "execution_count": 24,
   "metadata": {},
   "outputs": [
    {
     "name": "stdout",
     "output_type": "stream",
     "text": [
      "score on test: 0.8834498834498834\n",
      "score on train: 0.9999775860136725\n"
     ]
    }
   ],
   "source": [
    "# Decision Tree\n",
    "\n",
    "from sklearn.tree import DecisionTreeClassifier\n",
    "\n",
    "clf = DecisionTreeClassifier()\n",
    "model_clf = clf.fit(X_train, y_train)\n",
    "print(\"score on test: \"  + str(clf.score(X_test, y_test)))\n",
    "print(\"score on train: \" + str(clf.score(X_train, y_train)))\n",
    "\n",
    "#applying nodel on test dataset\n",
    "pred_clf = model_clf.predict(X_test)\n",
    "\n",
    "#score on test: 0.8834498834498834\n",
    "#score on train: 0.9999775860136725\n",
    "\n",
    "#durations: 0.3s\n"
   ]
  },
  {
   "cell_type": "code",
   "execution_count": 25,
   "metadata": {},
   "outputs": [
    {
     "name": "stderr",
     "output_type": "stream",
     "text": [
      "C:\\Users\\masud\\AppData\\Local\\Programs\\Python\\Python310\\lib\\site-packages\\sklearn\\utils\\deprecation.py:87: FutureWarning: Function plot_confusion_matrix is deprecated; Function `plot_confusion_matrix` is deprecated in 1.0 and will be removed in 1.2. Use one of the class methods: ConfusionMatrixDisplay.from_predictions or ConfusionMatrixDisplay.from_estimator.\n",
      "  warnings.warn(msg, category=FutureWarning)\n"
     ]
    },
    {
     "data": {
      "text/plain": [
       "<sklearn.metrics._plot.confusion_matrix.ConfusionMatrixDisplay at 0x18d49722d10>"
      ]
     },
     "execution_count": 25,
     "metadata": {},
     "output_type": "execute_result"
    },
    {
     "data": {
      "image/png": "[encoded data removed]",
      "text/plain": [
       "<Figure size 432x288 with 2 Axes>"
      ]
     },
     "metadata": {
      "needs_background": "light"
     },
     "output_type": "display_data"
    }
   ],
   "source": [
    "metrics.plot_confusion_matrix(model_clf, X_test, y_test, display_labels=['No constriction', 'Constriction'])"
   ]
  },
  {
   "cell_type": "code",
   "execution_count": 26,
   "metadata": {},
   "outputs": [
    {
     "name": "stdout",
     "output_type": "stream",
     "text": [
      "              precision    recall  f1-score   support\n",
      "\n",
      "           0       0.94      0.93      0.94     10209\n",
      "           1       0.32      0.35      0.34       945\n",
      "\n",
      "    accuracy                           0.88     11154\n",
      "   macro avg       0.63      0.64      0.64     11154\n",
      "weighted avg       0.89      0.88      0.89     11154\n",
      "\n"
     ]
    }
   ],
   "source": [
    "print(metrics.classification_report(y_test,pred_clf))"
   ]
  },
  {
   "cell_type": "code",
   "execution_count": 27,
   "metadata": {},
   "outputs": [
    {
     "name": "stdout",
     "output_type": "stream",
     "text": [
      "score on test: 0.9216424601039985\n",
      "score on train: 0.9577720497590496\n"
     ]
    }
   ],
   "source": [
    "# Bagging Decision Tree (Ensemble Learning I)\n",
    "\n",
    "from sklearn.ensemble import BaggingClassifier\n",
    "from sklearn.tree import DecisionTreeClassifier\n",
    "\n",
    "# max_samples: maximum size 0.5=50% of each sample taken from the full dataset\n",
    "# max_features: maximum of features 1=100% taken here all 10K \n",
    "# n_estimators: number of decision trees \n",
    "\n",
    "bg=BaggingClassifier(DecisionTreeClassifier(),max_samples=0.5,max_features=1.0,n_estimators=10)\n",
    "model_bg = bg.fit(X_train, y_train)\n",
    "print(\"score on test: \" + str(bg.score(X_test, y_test)))\n",
    "print(\"score on train: \"+ str(bg.score(X_train, y_train)))\n",
    "\n",
    "#applying nodel on test dataset\n",
    "pred_bg = model_bg.predict(X_test)\n",
    "\n",
    "#score on test: 0.9216424601039985\n",
    "#score on train: 0.9577720497590496\n",
    "\n",
    "# duration 1.1s\n",
    "\n",
    "#The Bagging Classifier is much slower as it basically runs 10 decision trees \n",
    "# but one can see a reduction of the overfitting we saw on the single Decision \n",
    "# Tree and an increase in the test score"
   ]
  },
  {
   "cell_type": "code",
   "execution_count": 28,
   "metadata": {},
   "outputs": [
    {
     "name": "stderr",
     "output_type": "stream",
     "text": [
      "C:\\Users\\masud\\AppData\\Local\\Programs\\Python\\Python310\\lib\\site-packages\\sklearn\\utils\\deprecation.py:87: FutureWarning: Function plot_confusion_matrix is deprecated; Function `plot_confusion_matrix` is deprecated in 1.0 and will be removed in 1.2. Use one of the class methods: ConfusionMatrixDisplay.from_predictions or ConfusionMatrixDisplay.from_estimator.\n",
      "  warnings.warn(msg, category=FutureWarning)\n"
     ]
    },
    {
     "data": {
      "text/plain": [
       "<sklearn.metrics._plot.confusion_matrix.ConfusionMatrixDisplay at 0x18d49421660>"
      ]
     },
     "execution_count": 28,
     "metadata": {},
     "output_type": "execute_result"
    },
    {
     "data": {
      "image/png": "[encoded data removed]",
      "text/plain": [
       "<Figure size 432x288 with 2 Axes>"
      ]
     },
     "metadata": {
      "needs_background": "light"
     },
     "output_type": "display_data"
    }
   ],
   "source": [
    "metrics.plot_confusion_matrix(model_bg, X_test, y_test, display_labels=['No constriction', 'Constriction'])"
   ]
  },
  {
   "cell_type": "code",
   "execution_count": 29,
   "metadata": {},
   "outputs": [
    {
     "name": "stdout",
     "output_type": "stream",
     "text": [
      "              precision    recall  f1-score   support\n",
      "\n",
      "           0       0.93      0.99      0.96     10209\n",
      "           1       0.60      0.22      0.33       945\n",
      "\n",
      "    accuracy                           0.92     11154\n",
      "   macro avg       0.77      0.60      0.64     11154\n",
      "weighted avg       0.90      0.92      0.90     11154\n",
      "\n"
     ]
    }
   ],
   "source": [
    "print(metrics.classification_report(y_test,pred_bg))"
   ]
  },
  {
   "cell_type": "code",
   "execution_count": 30,
   "metadata": {},
   "outputs": [
    {
     "name": "stdout",
     "output_type": "stream",
     "text": [
      "score on test: 0.9221803837188453\n",
      "score on train: 0.9170458366020396\n"
     ]
    }
   ],
   "source": [
    "#  Boosting Decision Tree (Ensemble Learning II)\n",
    "\n",
    "from sklearn.ensemble import AdaBoostClassifier\n",
    "from sklearn.tree import DecisionTreeClassifier\n",
    "\n",
    "adb = AdaBoostClassifier(DecisionTreeClassifier(min_samples_split=10,max_depth=4),n_estimators=10,learning_rate=0.6)\n",
    "model_adb = adb.fit(X_train, y_train)\n",
    "\n",
    "print(\"score on test: \" + str(adb.score(X_test, y_test)))\n",
    "print(\"score on train: \"+ str(adb.score(X_train, y_train)))\n",
    "\n",
    "pred_adb = model_adb.predict(X_test)\n",
    "\n",
    "\n",
    "#score on test: 0.9221803837188453\n",
    "#score on train: 0.9170458366020396\n",
    "\n",
    "#duration 1.1s"
   ]
  },
  {
   "cell_type": "code",
   "execution_count": 31,
   "metadata": {},
   "outputs": [
    {
     "name": "stderr",
     "output_type": "stream",
     "text": [
      "C:\\Users\\masud\\AppData\\Local\\Programs\\Python\\Python310\\lib\\site-packages\\sklearn\\utils\\deprecation.py:87: FutureWarning: Function plot_confusion_matrix is deprecated; Function `plot_confusion_matrix` is deprecated in 1.0 and will be removed in 1.2. Use one of the class methods: ConfusionMatrixDisplay.from_predictions or ConfusionMatrixDisplay.from_estimator.\n",
      "  warnings.warn(msg, category=FutureWarning)\n"
     ]
    },
    {
     "data": {
      "text/plain": [
       "<sklearn.metrics._plot.confusion_matrix.ConfusionMatrixDisplay at 0x18d49d86ce0>"
      ]
     },
     "execution_count": 31,
     "metadata": {},
     "output_type": "execute_result"
    },
    {
     "data": {
      "image/png": "[encoded data removed]",
      "text/plain": [
       "<Figure size 432x288 with 2 Axes>"
      ]
     },
     "metadata": {
      "needs_background": "light"
     },
     "output_type": "display_data"
    }
   ],
   "source": [
    "metrics.plot_confusion_matrix(model_adb, X_test, y_test, display_labels=['No constriction', 'Constriction'])"
   ]
  },
  {
   "cell_type": "code",
   "execution_count": 32,
   "metadata": {},
   "outputs": [
    {
     "name": "stdout",
     "output_type": "stream",
     "text": [
      "              precision    recall  f1-score   support\n",
      "\n",
      "           0       0.93      0.99      0.96     10209\n",
      "           1       0.68      0.15      0.25       945\n",
      "\n",
      "    accuracy                           0.92     11154\n",
      "   macro avg       0.80      0.57      0.60     11154\n",
      "weighted avg       0.91      0.92      0.90     11154\n",
      "\n"
     ]
    }
   ],
   "source": [
    "print(metrics.classification_report(y_test,pred_adb))"
   ]
  },
  {
   "cell_type": "code",
   "execution_count": 33,
   "metadata": {},
   "outputs": [
    {
     "name": "stdout",
     "output_type": "stream",
     "text": [
      "score on test: 0.9229872691411153\n",
      "score on train: 0.9227165751428892\n"
     ]
    }
   ],
   "source": [
    "# Random Forest (Ensemble Learning III)\n",
    "\n",
    "from sklearn.ensemble import RandomForestClassifier\n",
    "\n",
    "# n_estimators = number of decision trees\n",
    "rf = RandomForestClassifier(n_estimators=30, max_depth=9)\n",
    "model_rf = rf.fit(X_train, y_train)\n",
    "print(\"score on test: \" + str(rf.score(X_test, y_test)))\n",
    "print(\"score on train: \"+ str(rf.score(X_train, y_train)))\n",
    "\n",
    "pred_rf = model_rf.predict(X_test)\n",
    "#score on test: 0.9229872691411153\n",
    "#score on train: 0.9227165751428892\n",
    "\n",
    "#duration 1.3s"
   ]
  },
  {
   "cell_type": "code",
   "execution_count": 34,
   "metadata": {},
   "outputs": [
    {
     "name": "stderr",
     "output_type": "stream",
     "text": [
      "C:\\Users\\masud\\AppData\\Local\\Programs\\Python\\Python310\\lib\\site-packages\\sklearn\\utils\\deprecation.py:87: FutureWarning: Function plot_confusion_matrix is deprecated; Function `plot_confusion_matrix` is deprecated in 1.0 and will be removed in 1.2. Use one of the class methods: ConfusionMatrixDisplay.from_predictions or ConfusionMatrixDisplay.from_estimator.\n",
      "  warnings.warn(msg, category=FutureWarning)\n"
     ]
    },
    {
     "data": {
      "text/plain": [
       "<sklearn.metrics._plot.confusion_matrix.ConfusionMatrixDisplay at 0x18d49de3340>"
      ]
     },
     "execution_count": 34,
     "metadata": {},
     "output_type": "execute_result"
    },
    {
     "data": {
      "image/png": "[encoded data removed]",
      "text/plain": [
       "<Figure size 432x288 with 2 Axes>"
      ]
     },
     "metadata": {
      "needs_background": "light"
     },
     "output_type": "display_data"
    }
   ],
   "source": [
    "metrics.plot_confusion_matrix(model_rf, X_test, y_test, display_labels=['No constriction', 'Constriction'])"
   ]
  },
  {
   "cell_type": "code",
   "execution_count": 35,
   "metadata": {},
   "outputs": [
    {
     "name": "stdout",
     "output_type": "stream",
     "text": [
      "              precision    recall  f1-score   support\n",
      "\n",
      "           0       0.93      0.99      0.96     10209\n",
      "           1       0.70      0.16      0.26       945\n",
      "\n",
      "    accuracy                           0.92     11154\n",
      "   macro avg       0.81      0.58      0.61     11154\n",
      "weighted avg       0.91      0.92      0.90     11154\n",
      "\n"
     ]
    }
   ],
   "source": [
    "print(metrics.classification_report(y_test,pred_rf))"
   ]
  },
  {
   "cell_type": "code",
   "execution_count": 36,
   "metadata": {},
   "outputs": [
    {
     "name": "stdout",
     "output_type": "stream",
     "text": [
      "Epoch 1/4\n",
      "86/86 [==============================] - 1s 3ms/step - loss: 0.4246 - accuracy: 0.9115 - val_loss: 0.3048 - val_accuracy: 0.9180\n",
      "Epoch 2/4\n",
      "86/86 [==============================] - 0s 2ms/step - loss: 0.3009 - accuracy: 0.9115 - val_loss: 0.2812 - val_accuracy: 0.9180\n",
      "Epoch 3/4\n",
      "86/86 [==============================] - 0s 2ms/step - loss: 0.2950 - accuracy: 0.9115 - val_loss: 0.2781 - val_accuracy: 0.9180\n",
      "Epoch 4/4\n",
      "86/86 [==============================] - 0s 2ms/step - loss: 0.2920 - accuracy: 0.9115 - val_loss: 0.2759 - val_accuracy: 0.9180\n",
      "349/349 [==============================] - 0s 1ms/step - loss: 0.2818 - accuracy: 0.9153\n",
      "score on test: 0.9152770042419434\n",
      "1395/1395 [==============================] - 1s 1ms/step - loss: 0.2900 - accuracy: 0.9117\n",
      "score on train: 0.9116888642311096\n"
     ]
    }
   ],
   "source": [
    "#Neural Network (Deep Learning)\n",
    "\n",
    "from keras import layers\n",
    "from keras import models\n",
    "from keras import optimizers\n",
    "from keras import losses\n",
    "from keras import metrics\n",
    "\n",
    "# split an additional validation dataset\n",
    "x_validation=X_train[:1000]\n",
    "x_partial_train=X_train[1000:]\n",
    "y_validation=y_train[:1000]\n",
    "y_partial_train=y_train[1000:]\n",
    "\n",
    "model=models.Sequential()\n",
    "model.add(layers.Dense(16,activation='relu',input_shape=(6,)))\n",
    "model.add(layers.Dense(16,activation='relu'))\n",
    "model.add(layers.Dense(1,activation='sigmoid'))\n",
    "model.compile(optimizer='rmsprop',loss='binary_crossentropy',metrics=['accuracy'])\n",
    "model.fit(x_partial_train,y_partial_train,epochs=4,batch_size=512,validation_data=(x_validation,y_validation))\n",
    "print(\"score on test: \" + str(model.evaluate(X_test,y_test)[1]))\n",
    "print(\"score on train: \"+ str(model.evaluate(X_train,y_train)[1]))"
   ]
  },
  {
   "cell_type": "code",
   "execution_count": 37,
   "metadata": {},
   "outputs": [
    {
     "name": "stdout",
     "output_type": "stream",
     "text": [
      "Epoch 1/4\n",
      "86/86 [==============================] - 1s 4ms/step - loss: 0.6944 - accuracy: 0.7017 - val_loss: 0.5804 - val_accuracy: 0.9180\n",
      "Epoch 2/4\n",
      "86/86 [==============================] - 0s 3ms/step - loss: 0.5247 - accuracy: 0.9033 - val_loss: 0.3986 - val_accuracy: 0.9180\n",
      "Epoch 3/4\n",
      "86/86 [==============================] - 0s 3ms/step - loss: 0.4368 - accuracy: 0.9115 - val_loss: 0.3257 - val_accuracy: 0.9180\n",
      "Epoch 4/4\n",
      "86/86 [==============================] - 0s 2ms/step - loss: 0.3955 - accuracy: 0.9115 - val_loss: 0.3084 - val_accuracy: 0.9180\n",
      "349/349 [==============================] - 0s 1ms/step - loss: 0.3138 - accuracy: 0.9153\n",
      "score on test: 0.9152770042419434\n",
      "1395/1395 [==============================] - 1s 1ms/step - loss: 0.3210 - accuracy: 0.9117\n",
      "score on train: 0.9116888642311096\n"
     ]
    }
   ],
   "source": [
    "from keras import regularizers\n",
    "\n",
    "# add validation dataset\n",
    "validation_split=1000\n",
    "x_validation=X_train[:validation_split]\n",
    "x_partial_train=X_train[validation_split:]\n",
    "y_validation=y_train[:validation_split]\n",
    "y_partial_train=y_train[validation_split:]\n",
    "model=models.Sequential()\n",
    "model.add(layers.Dense(8,kernel_regularizer=regularizers.l2(0.003),activation='relu',input_shape=(6,)))\n",
    "model.add(layers.Dropout(0.5))\n",
    "model.add(layers.Dense(8,kernel_regularizer=regularizers.l2(0.003),activation='relu'))\n",
    "model.add(layers.Dropout(0.6))\n",
    "model.add(layers.Dense(1,activation='sigmoid'))\n",
    "model.compile(optimizer='rmsprop',loss='binary_crossentropy',metrics=['accuracy'])\n",
    "model.fit(x_partial_train,y_partial_train,epochs=4,batch_size=512,validation_data=(x_validation,y_validation))\n",
    "print(\"score on test: \" + str(model.evaluate(X_test,y_test)[1]))\n",
    "print(\"score on train: \"+ str(model.evaluate(X_train,y_train)[1]))"
   ]
  }
 ],
 "metadata": {
  "interpreter": {
   "hash": "c0ec2fa64e559bcf1e26b72294f8d7964640e4d45d429ea8cc58c0ee1727d470"
  },
  "kernelspec": {
   "display_name": "Python 3.10.1 64-bit",
   "language": "python",
   "name": "python3"
  },
  "language_info": {
   "codemirror_mode": {
    "name": "ipython",
    "version": 3
   },
   "file_extension": ".py",
   "mimetype": "text/x-python",
   "name": "python",
   "nbconvert_exporter": "python",
   "pygments_lexer": "ipython3",
   "version": "3.10.1"
  },
  "orig_nbformat": 4
 },
 "nbformat": 4,
 "nbformat_minor": 2
}

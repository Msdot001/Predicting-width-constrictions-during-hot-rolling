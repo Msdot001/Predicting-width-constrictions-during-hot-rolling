{
 "cells": [
  {
   "cell_type": "code",
   "execution_count": 1,
   "metadata": {},
   "outputs": [],
   "source": [
    "import pandas as pd\n",
    "import numpy as np\n",
    "import matplotlib.pyplot as plt\n",
    "\n",
    "\n",
    "from sklearn.metrics import accuracy_score\n",
    "from sklearn.metrics import balanced_accuracy_score\n",
    "from sklearn.metrics import recall_score\n",
    "from sklearn.metrics import precision_score\n",
    "from sklearn.metrics import f1_score\n"
   ]
  },
  {
   "cell_type": "code",
   "execution_count": 2,
   "metadata": {},
   "outputs": [
    {
     "data": {
      "text/html": [
       "<div>\n",
       "<style scoped>\n",
       "    .dataframe tbody tr th:only-of-type {\n",
       "        vertical-align: middle;\n",
       "    }\n",
       "\n",
       "    .dataframe tbody tr th {\n",
       "        vertical-align: top;\n",
       "    }\n",
       "\n",
       "    .dataframe thead th {\n",
       "        text-align: right;\n",
       "    }\n",
       "</style>\n",
       "<table border=\"1\" class=\"dataframe\">\n",
       "  <thead>\n",
       "    <tr style=\"text-align: right;\">\n",
       "      <th></th>\n",
       "      <th>Unnamed: 0</th>\n",
       "      <th>coil</th>\n",
       "      <th>furnace Number</th>\n",
       "      <th>analyse</th>\n",
       "      <th>Hardness_1</th>\n",
       "      <th>Hardness_2</th>\n",
       "      <th>Width</th>\n",
       "      <th>Temperature before finishing mill</th>\n",
       "      <th>Temperature after finishing mill</th>\n",
       "      <th>Thickness</th>\n",
       "      <th>...</th>\n",
       "      <th>al</th>\n",
       "      <th>ma</th>\n",
       "      <th>b</th>\n",
       "      <th>n</th>\n",
       "      <th>ti</th>\n",
       "      <th>cr</th>\n",
       "      <th>va</th>\n",
       "      <th>mo</th>\n",
       "      <th>difference</th>\n",
       "      <th>constriction</th>\n",
       "    </tr>\n",
       "  </thead>\n",
       "  <tbody>\n",
       "    <tr>\n",
       "      <th>0</th>\n",
       "      <td>0</td>\n",
       "      <td>396378</td>\n",
       "      <td>1</td>\n",
       "      <td>K371</td>\n",
       "      <td>10003</td>\n",
       "      <td>101</td>\n",
       "      <td>1302.1</td>\n",
       "      <td>1147</td>\n",
       "      <td>921</td>\n",
       "      <td>4.36</td>\n",
       "      <td>...</td>\n",
       "      <td>304</td>\n",
       "      <td>291</td>\n",
       "      <td>1</td>\n",
       "      <td>34</td>\n",
       "      <td>6</td>\n",
       "      <td>302</td>\n",
       "      <td>0</td>\n",
       "      <td>25</td>\n",
       "      <td>-0.783333</td>\n",
       "      <td>0</td>\n",
       "    </tr>\n",
       "    <tr>\n",
       "      <th>1</th>\n",
       "      <td>1</td>\n",
       "      <td>396376</td>\n",
       "      <td>3</td>\n",
       "      <td>K371</td>\n",
       "      <td>10123</td>\n",
       "      <td>101</td>\n",
       "      <td>1282.3</td>\n",
       "      <td>1150</td>\n",
       "      <td>920</td>\n",
       "      <td>4.37</td>\n",
       "      <td>...</td>\n",
       "      <td>395</td>\n",
       "      <td>384</td>\n",
       "      <td>1</td>\n",
       "      <td>33</td>\n",
       "      <td>12</td>\n",
       "      <td>189</td>\n",
       "      <td>25</td>\n",
       "      <td>7</td>\n",
       "      <td>-0.300000</td>\n",
       "      <td>0</td>\n",
       "    </tr>\n",
       "    <tr>\n",
       "      <th>2</th>\n",
       "      <td>2</td>\n",
       "      <td>396377</td>\n",
       "      <td>4</td>\n",
       "      <td>K321</td>\n",
       "      <td>10040</td>\n",
       "      <td>102</td>\n",
       "      <td>1297.4</td>\n",
       "      <td>1183</td>\n",
       "      <td>933</td>\n",
       "      <td>4.43</td>\n",
       "      <td>...</td>\n",
       "      <td>476</td>\n",
       "      <td>463</td>\n",
       "      <td>1</td>\n",
       "      <td>20</td>\n",
       "      <td>11</td>\n",
       "      <td>288</td>\n",
       "      <td>0</td>\n",
       "      <td>40</td>\n",
       "      <td>-1.866667</td>\n",
       "      <td>0</td>\n",
       "    </tr>\n",
       "    <tr>\n",
       "      <th>3</th>\n",
       "      <td>3</td>\n",
       "      <td>396379</td>\n",
       "      <td>3</td>\n",
       "      <td>K371</td>\n",
       "      <td>10243</td>\n",
       "      <td>102</td>\n",
       "      <td>1295.2</td>\n",
       "      <td>1165</td>\n",
       "      <td>910</td>\n",
       "      <td>4.44</td>\n",
       "      <td>...</td>\n",
       "      <td>306</td>\n",
       "      <td>296</td>\n",
       "      <td>1</td>\n",
       "      <td>21</td>\n",
       "      <td>9</td>\n",
       "      <td>253</td>\n",
       "      <td>0</td>\n",
       "      <td>9</td>\n",
       "      <td>-0.166667</td>\n",
       "      <td>0</td>\n",
       "    </tr>\n",
       "    <tr>\n",
       "      <th>4</th>\n",
       "      <td>4</td>\n",
       "      <td>396380</td>\n",
       "      <td>4</td>\n",
       "      <td>K321</td>\n",
       "      <td>10012</td>\n",
       "      <td>100</td>\n",
       "      <td>1293.3</td>\n",
       "      <td>1192</td>\n",
       "      <td>909</td>\n",
       "      <td>3.95</td>\n",
       "      <td>...</td>\n",
       "      <td>340</td>\n",
       "      <td>329</td>\n",
       "      <td>1</td>\n",
       "      <td>28</td>\n",
       "      <td>8</td>\n",
       "      <td>297</td>\n",
       "      <td>0</td>\n",
       "      <td>23</td>\n",
       "      <td>-0.800000</td>\n",
       "      <td>0</td>\n",
       "    </tr>\n",
       "  </tbody>\n",
       "</table>\n",
       "<p>5 rows × 27 columns</p>\n",
       "</div>"
      ],
      "text/plain": [
       "   Unnamed: 0    coil  furnace Number analyse  Hardness_1  Hardness_2   Width  \\\n",
       "0           0  396378               1   K371        10003         101  1302.1   \n",
       "1           1  396376               3   K371        10123         101  1282.3   \n",
       "2           2  396377               4   K321        10040         102  1297.4   \n",
       "3           3  396379               3   K371        10243         102  1295.2   \n",
       "4           4  396380               4   K321        10012         100  1293.3   \n",
       "\n",
       "   Temperature before finishing mill  Temperature after finishing mill  \\\n",
       "0                               1147                               921   \n",
       "1                               1150                               920   \n",
       "2                               1183                               933   \n",
       "3                               1165                               910   \n",
       "4                               1192                               909   \n",
       "\n",
       "   Thickness  ...   al   ma  b   n  ti   cr  va  mo  difference  constriction  \n",
       "0       4.36  ...  304  291  1  34   6  302   0  25   -0.783333             0  \n",
       "1       4.37  ...  395  384  1  33  12  189  25   7   -0.300000             0  \n",
       "2       4.43  ...  476  463  1  20  11  288   0  40   -1.866667             0  \n",
       "3       4.44  ...  306  296  1  21   9  253   0   9   -0.166667             0  \n",
       "4       3.95  ...  340  329  1  28   8  297   0  23   -0.800000             0  \n",
       "\n",
       "[5 rows x 27 columns]"
      ]
     },
     "execution_count": 2,
     "metadata": {},
     "output_type": "execute_result"
    }
   ],
   "source": [
    "# setting difference to be 4\n",
    "\n",
    "df = pd.read_csv(r'C:\\Users\\masud\\Documents\\Steel-Project\\Final_4.5.csv')\n",
    "df.head()"
   ]
  },
  {
   "cell_type": "code",
   "execution_count": 3,
   "metadata": {},
   "outputs": [],
   "source": [
    "# drop column\n",
    "df = df.drop(['Unnamed: 0','Thickness profile','difference'], axis = 1)\n",
    "\n",
    "#df"
   ]
  },
  {
   "cell_type": "code",
   "execution_count": 4,
   "metadata": {},
   "outputs": [],
   "source": [
    "df = df.loc[df.Hardness_1 * df.Hardness_2 * df.Width * df.Thickness * df['Temperature before finishing mill'] * df['Temperature after finishing mill'] != 0]\n"
   ]
  },
  {
   "cell_type": "code",
   "execution_count": 5,
   "metadata": {},
   "outputs": [],
   "source": [
    "# Downsampling \n",
    "\n",
    "from collections import Counter\n",
    "from sklearn.datasets import make_classification\n",
    "from imblearn.under_sampling import RandomUnderSampler\n"
   ]
  },
  {
   "cell_type": "code",
   "execution_count": 6,
   "metadata": {},
   "outputs": [
    {
     "data": {
      "text/plain": [
       "Index(['coil', 'furnace Number', 'analyse', 'Hardness_1', 'Hardness_2',\n",
       "       'Width', 'Temperature before finishing mill',\n",
       "       'Temperature after finishing mill', 'Thickness', 'c', 'mn', 'si', 'nb',\n",
       "       'p', 's', 'al', 'ma', 'b', 'n', 'ti', 'cr', 'va', 'mo', 'constriction'],\n",
       "      dtype='object')"
      ]
     },
     "execution_count": 6,
     "metadata": {},
     "output_type": "execute_result"
    }
   ],
   "source": [
    "df.columns"
   ]
  },
  {
   "cell_type": "code",
   "execution_count": 23,
   "metadata": {},
   "outputs": [
    {
     "data": {
      "text/plain": [
       "array([[ 101. , 1302.1, 1147. , ...,  302. ,    0. ,   25. ],\n",
       "       [ 101. , 1282.3, 1150. , ...,  189. ,   25. ,    7. ],\n",
       "       [ 102. , 1297.4, 1183. , ...,  288. ,    0. ,   40. ],\n",
       "       ...,\n",
       "       [  99. , 1257.2, 1182. , ...,  248. ,    0. ,   36. ],\n",
       "       [  99. , 1257.1, 1194. , ...,  248. ,    0. ,   36. ],\n",
       "       [  99. , 1258. , 1178. , ...,  248. ,    0. ,   36. ]])"
      ]
     },
     "execution_count": 23,
     "metadata": {},
     "output_type": "execute_result"
    }
   ],
   "source": [
    "#Extracting independent variable\n",
    "X= df.iloc[:,4:-1].values\n",
    "X"
   ]
  },
  {
   "cell_type": "code",
   "execution_count": 24,
   "metadata": {},
   "outputs": [
    {
     "data": {
      "text/plain": [
       "array([0, 0, 0, ..., 0, 0, 1], dtype=int64)"
      ]
     },
     "execution_count": 24,
     "metadata": {},
     "output_type": "execute_result"
    }
   ],
   "source": [
    "#Extracting dependent variable\n",
    "y= df.iloc[:,-1].values \n",
    "y"
   ]
  },
  {
   "cell_type": "code",
   "execution_count": 11,
   "metadata": {},
   "outputs": [],
   "source": [
    "#For splitting the dataset, \n",
    "\n",
    "from sklearn.model_selection import train_test_split  \n",
    "X_train, X_test, y_train, y_test= train_test_split(X, y, test_size= 0.2, random_state=0)  "
   ]
  },
  {
   "cell_type": "code",
   "execution_count": 12,
   "metadata": {},
   "outputs": [
    {
     "name": "stdout",
     "output_type": "stream",
     "text": [
      "Counter({0: 3831, 1: 3831})\n"
     ]
    }
   ],
   "source": [
    "# define undersample strategy\n",
    "undersample = RandomUnderSampler(sampling_strategy='majority')\n",
    "# fit and apply the transform\n",
    "X_over, y_over = undersample.fit_resample(X_train,  y_train)\n",
    "# summarize class distribution\n",
    "print(Counter(y_over))"
   ]
  },
  {
   "cell_type": "code",
   "execution_count": 13,
   "metadata": {},
   "outputs": [],
   "source": [
    "# feature scaling:standarding the dataset\n",
    "\n",
    "from sklearn.preprocessing import StandardScaler \n",
    "\n",
    "# fitting  and transforming the training dataset.\n",
    "\n",
    "st_x= StandardScaler()  \n",
    "X_over= st_x.fit_transform(X_over)"
   ]
  },
  {
   "cell_type": "code",
   "execution_count": 14,
   "metadata": {},
   "outputs": [],
   "source": [
    "# fitting  and transforming the test dataset\n",
    "X_test= st_x.transform(X_test)"
   ]
  },
  {
   "cell_type": "code",
   "execution_count": 15,
   "metadata": {},
   "outputs": [],
   "source": [
    "from sklearn.preprocessing import MinMaxScaler #fixed import\n",
    "\n",
    "scaler = MinMaxScaler()\n",
    "X_over = scaler.fit_transform(X_over)\n",
    "X_test = scaler.transform(X_test)"
   ]
  },
  {
   "cell_type": "code",
   "execution_count": 17,
   "metadata": {},
   "outputs": [],
   "source": [
    "from imblearn.pipeline import Pipeline\n",
    "from imblearn.under_sampling import RandomUnderSampler\n",
    "from sklearn.tree import DecisionTreeClassifier\n",
    "\n",
    "# define pipeline\n",
    "steps = [('under', RandomUnderSampler()), ('model', DecisionTreeClassifier())]\n",
    "pipeline = Pipeline(steps=steps)"
   ]
  },
  {
   "cell_type": "code",
   "execution_count": 18,
   "metadata": {},
   "outputs": [
    {
     "name": "stdout",
     "output_type": "stream",
     "text": [
      "F1 Score: 0.778\n"
     ]
    }
   ],
   "source": [
    "from sklearn.model_selection import cross_val_score\n",
    "from sklearn.model_selection import RepeatedStratifiedKFold\n",
    "from numpy import mean\n",
    "\n",
    "# evaluate pipeline\n",
    "cv = RepeatedStratifiedKFold(n_splits=10, n_repeats=3, random_state=1)\n",
    "scores = cross_val_score(pipeline, X, y, scoring='f1_micro', cv=cv, n_jobs=-1)\n",
    "score = mean(scores)\n",
    "print('F1 Score: %.3f' % score)"
   ]
  },
  {
   "cell_type": "markdown",
   "metadata": {},
   "source": [
    "# Random Forest \n"
   ]
  },
  {
   "cell_type": "code",
   "execution_count": 25,
   "metadata": {},
   "outputs": [],
   "source": [
    "from imblearn.pipeline import Pipeline\n",
    "from imblearn.under_sampling import RandomUnderSampler\n",
    "from sklearn.tree import DecisionTreeClassifier\n",
    "\n",
    "# define pipeline\n",
    "steps = [('under', RandomUnderSampler()), ('model', RandomForestClassifier())]\n",
    "pipeline = Pipeline(steps=steps)"
   ]
  },
  {
   "cell_type": "code",
   "execution_count": 26,
   "metadata": {},
   "outputs": [
    {
     "name": "stdout",
     "output_type": "stream",
     "text": [
      "F1 Score: 0.810\n"
     ]
    }
   ],
   "source": [
    "from sklearn.model_selection import cross_val_score\n",
    "from sklearn.model_selection import RepeatedStratifiedKFold\n",
    "from numpy import mean\n",
    "\n",
    "# evaluate pipeline\n",
    "cv = RepeatedStratifiedKFold(n_splits=10, n_repeats=3, random_state=1)\n",
    "scores = cross_val_score(pipeline, X, y, scoring='f1_micro', cv=cv, n_jobs=-1)\n",
    "score = mean(scores)\n",
    "print('F1 Score: %.3f' % score)"
   ]
  },
  {
   "cell_type": "markdown",
   "metadata": {},
   "source": [
    "# Feature importance \n"
   ]
  },
  {
   "cell_type": "code",
   "execution_count": null,
   "metadata": {},
   "outputs": [],
   "source": []
  },
  {
   "cell_type": "code",
   "execution_count": 30,
   "metadata": {},
   "outputs": [
    {
     "ename": "AttributeError",
     "evalue": "'Pipeline' object has no attribute 'feature_importances_'",
     "output_type": "error",
     "traceback": [
      "\u001b[1;31m---------------------------------------------------------------------------\u001b[0m",
      "\u001b[1;31mAttributeError\u001b[0m                            Traceback (most recent call last)",
      "\u001b[1;32mc:\\Users\\masud\\Documents\\Steel-Project\\last_minute.ipynb Cell 21'\u001b[0m in \u001b[0;36m<module>\u001b[1;34m\u001b[0m\n\u001b[1;32m----> <a href='vscode-notebook-cell:/c%3A/Users/masud/Documents/Steel-Project/last_minute.ipynb#ch0000025?line=0'>1</a>\u001b[0m pipeline\u001b[39m.\u001b[39;49mfeature_importances_\n",
      "\u001b[1;31mAttributeError\u001b[0m: 'Pipeline' object has no attribute 'feature_importances_'"
     ]
    }
   ],
   "source": [
    "pipeline.feature_importances_"
   ]
  },
  {
   "cell_type": "code",
   "execution_count": 28,
   "metadata": {},
   "outputs": [
    {
     "ename": "AttributeError",
     "evalue": "'list' object has no attribute 'feature_importances_'",
     "output_type": "error",
     "traceback": [
      "\u001b[1;31m---------------------------------------------------------------------------\u001b[0m",
      "\u001b[1;31mAttributeError\u001b[0m                            Traceback (most recent call last)",
      "\u001b[1;32mc:\\Users\\masud\\Documents\\Steel-Project\\last_minute.ipynb Cell 20'\u001b[0m in \u001b[0;36m<module>\u001b[1;34m\u001b[0m\n\u001b[1;32m----> <a href='vscode-notebook-cell:/c%3A/Users/masud/Documents/Steel-Project/last_minute.ipynb#ch0000024?line=0'>1</a>\u001b[0m feature_importances \u001b[39m=\u001b[39m pd\u001b[39m.\u001b[39mDataFrame(steps\u001b[39m.\u001b[39;49mfeature_importances_, index \u001b[39m=\u001b[39mX\u001b[39m.\u001b[39mcolumns,  columns\u001b[39m=\u001b[39m[\u001b[39m'\u001b[39m\u001b[39mimportance\u001b[39m\u001b[39m'\u001b[39m])\u001b[39m.\u001b[39msort_values(\u001b[39m'\u001b[39m\u001b[39mimportance\u001b[39m\u001b[39m'\u001b[39m, ascending\u001b[39m=\u001b[39m\u001b[39mFalse\u001b[39;00m)\n\u001b[0;32m      <a href='vscode-notebook-cell:/c%3A/Users/masud/Documents/Steel-Project/last_minute.ipynb#ch0000024?line=1'>2</a>\u001b[0m feature_importances\n",
      "\u001b[1;31mAttributeError\u001b[0m: 'list' object has no attribute 'feature_importances_'"
     ]
    }
   ],
   "source": [
    "feature_importances = pd.DataFrame(steps.feature_importances_, index =X.columns,  columns=['importance']).sort_values('importance', ascending=False)\n",
    "feature_importances  "
   ]
  },
  {
   "cell_type": "code",
   "execution_count": 19,
   "metadata": {},
   "outputs": [
    {
     "name": "stdout",
     "output_type": "stream",
     "text": [
      "score on test: 0.7962507962507962\n",
      "score on train: 0.08717808717808717\n"
     ]
    }
   ],
   "source": [
    "# Random Forest (Ensemble Learning III)\n",
    "\n",
    "from sklearn.ensemble import RandomForestClassifier\n",
    "\n",
    "# n_estimators = number of decision trees\n",
    "rf = RandomForestClassifier(n_estimators=30, max_depth=9)\n",
    "model_rf = rf.fit(X_over, y_over)\n",
    "print(\"score on test: \" + str(rf.score(X_test, y_test)))\n",
    "print(\"score on train: \"+ str(rf.score(X_train, y_train)))\n",
    "\n",
    "pred_rf = model_rf.predict(X_test)"
   ]
  },
  {
   "cell_type": "code",
   "execution_count": 21,
   "metadata": {},
   "outputs": [
    {
     "name": "stderr",
     "output_type": "stream",
     "text": [
      "C:\\Users\\masud\\AppData\\Local\\Programs\\Python\\Python310\\lib\\site-packages\\sklearn\\utils\\deprecation.py:87: FutureWarning: Function plot_confusion_matrix is deprecated; Function `plot_confusion_matrix` is deprecated in 1.0 and will be removed in 1.2. Use one of the class methods: ConfusionMatrixDisplay.from_predictions or ConfusionMatrixDisplay.from_estimator.\n",
      "  warnings.warn(msg, category=FutureWarning)\n"
     ]
    },
    {
     "data": {
      "text/plain": [
       "<sklearn.metrics._plot.confusion_matrix.ConfusionMatrixDisplay at 0x1c9665a68f0>"
      ]
     },
     "execution_count": 21,
     "metadata": {},
     "output_type": "execute_result"
    },
    {
     "data": {
      "image/png": "[encoded data removed]",
      "text/plain": [
       "<Figure size 432x288 with 2 Axes>"
      ]
     },
     "metadata": {
      "needs_background": "light"
     },
     "output_type": "display_data"
    }
   ],
   "source": [
    "from sklearn import metrics\n",
    "\n",
    "metrics.plot_confusion_matrix(model_rf, X_test, y_test, display_labels=['No constriction', 'Constriction'])"
   ]
  },
  {
   "cell_type": "code",
   "execution_count": 22,
   "metadata": {},
   "outputs": [
    {
     "name": "stdout",
     "output_type": "stream",
     "text": [
      "              precision    recall  f1-score   support\n",
      "\n",
      "           0       0.98      0.79      0.88      9994\n",
      "           1       0.29      0.87      0.44       995\n",
      "\n",
      "    accuracy                           0.80     10989\n",
      "   macro avg       0.64      0.83      0.66     10989\n",
      "weighted avg       0.92      0.80      0.84     10989\n",
      "\n"
     ]
    }
   ],
   "source": [
    "print(metrics.classification_report(y_test,pred_rf))"
   ]
  }
 ],
 "metadata": {
  "interpreter": {
   "hash": "c0ec2fa64e559bcf1e26b72294f8d7964640e4d45d429ea8cc58c0ee1727d470"
  },
  "kernelspec": {
   "display_name": "Python 3.10.1 64-bit",
   "language": "python",
   "name": "python3"
  },
  "language_info": {
   "codemirror_mode": {
    "name": "ipython",
    "version": 3
   },
   "file_extension": ".py",
   "mimetype": "text/x-python",
   "name": "python",
   "nbconvert_exporter": "python",
   "pygments_lexer": "ipython3",
   "version": "3.10.1"
  },
  "orig_nbformat": 4
 },
 "nbformat": 4,
 "nbformat_minor": 2
}

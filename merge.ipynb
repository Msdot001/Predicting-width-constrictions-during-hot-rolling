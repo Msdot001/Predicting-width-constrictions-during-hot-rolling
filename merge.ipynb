{
 "cells": [
  {
   "cell_type": "code",
   "execution_count": 6,
   "metadata": {},
   "outputs": [],
   "source": [
    "import pandas as pd"
   ]
  },
  {
   "cell_type": "code",
   "execution_count": null,
   "metadata": {},
   "outputs": [],
   "source": [
    "def coil(coil_number,stage):\n",
    "    # load one csv for the coil at the stage B4 or B5\n",
    "    df = pd.read_csv(f'SignalExport/{coil_number}B{stage}.csv')\n",
    "    # Turn it into the list and split it by semicolon\n",
    "    df= list(df.columns)[0].split(\";\")\n",
    "    # Finding index for the length and width\n",
    "    li=df.index(\"Lengthpoints:\") \n",
    "    wi=df.index(\"Values\")\n",
    "    # Slicing the dataframe into 4 lists \n",
    "    coil_num =df[0]\n",
    "    coil_stage = df[1]\n",
    "    length=df[li+1:wi]   \n",
    "    width=df[wi+1:-1]\n",
    "    # Checking the number of observations in the lists\n",
    "    #print(f\"Number of observations:{len(length),len(width)}\")\n",
    "    # Turning length and width measurements from a string into a float \n",
    "    length = [float(i) for i in length]\n",
    "    width = [float(i) for i in width]\n",
    "    #Duplicate the coil number for the number of observations in the length \n",
    "    mult_coil_values= [coil_num for i in range(len(length))]\n",
    "    mult_coil_stage_values = [coil_stage for i in range(len(length))]\n",
    "    # Create an empty dataframe \n",
    "    my_df = pd.DataFrame()\n",
    "    # Turn in the lists into the series  \n",
    "    mult_coil_values = pd.Series(mult_coil_values)\n",
    "    coil_stage_values= pd.Series(mult_coil_stage_values)\n",
    "    length_values = pd.Series(length)\n",
    "    width_values = pd.Series(width)\n",
    "    # Create columns and fill them with the series \n",
    "    my_df['coil_number'] = mult_coil_values\n",
    "    my_df['coil_stage'] = mult_coil_stage_values\n",
    "    my_df['length'] = length_values\n",
    "    my_df['width'] = width_values\n",
    "    # Drop the zeros\n",
    "    my_df = my_df[(my_df != 0).all(1)]\n",
    "    #Looking at only 140-170 m length\n",
    "    new_df= my_df.loc[(my_df['length'] >= 140) & (my_df['length'] <= 170)]\n",
    "    #\n",
    "    new_df[\"length_m\"] = new_df[\"length\"].astype(int)\n",
    "    # Checking the shape new_df_B4.shape \n",
    "    #print(f\"The shape of the sliced dataset is {new_df.shape}\")\n",
    "    return new_df"
   ]
  },
  {
   "cell_type": "code",
   "execution_count": null,
   "metadata": {},
   "outputs": [],
   "source": [
    "# Defining the coil\n",
    "coil_number = 10080\n",
    "stage = 4"
   ]
  },
  {
   "cell_type": "code",
   "execution_count": null,
   "metadata": {},
   "outputs": [],
   "source": [
    "def calculating_difference(B4_df = coil(coil_number,stage),B5_df = coil(coil_number,stage+1)):\n",
    "    # Estimating average width at each meter\n",
    "    average_B4 = pd.Series(B4_df.groupby('length_m')['width'].mean())\n",
    "    average_B5 = pd.Series(B5_df.groupby('length_m')['width'].mean())\n",
    "    # Creating a dataframe where we see the averages of B4 and B5 and the differences \n",
    "    two_df = pd.DataFrame()\n",
    "    two_df['Average_B4'],two_df['Average_B5'] =[average_B4, average_B5]\n",
    "    two_df[\"difference\"] = two_df[\"Average_B5\"] - two_df[\"Average_B4\"]\n",
    "    two_df = two_df.rename_axis('Length').reset_index()\n",
    "    display(two_df.head())"
   ]
  }
 ],
 "metadata": {
  "language_info": {
   "name": "python"
  },
  "orig_nbformat": 4
 },
 "nbformat": 4,
 "nbformat_minor": 2
}

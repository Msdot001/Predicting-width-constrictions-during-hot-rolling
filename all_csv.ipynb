{
 "cells": [
  {
   "cell_type": "code",
   "execution_count": 53,
   "metadata": {},
   "outputs": [],
   "source": [
    "import pandas as pd\n",
    "import glob\n",
    "import re"
   ]
  },
  {
   "cell_type": "code",
   "execution_count": 34,
   "metadata": {},
   "outputs": [],
   "source": [
    "path = r\"C:\\Users\\masud\\Downloads\\trial\"\n",
    "all_files = glob.glob(path + \"/*.csv\")\n"
   ]
  },
  {
   "cell_type": "code",
   "execution_count": 49,
   "metadata": {},
   "outputs": [],
   "source": [
    "B5 = glob.glob(path + \"/*B5.csv\")\n",
    "B4 = glob.glob(path + \"/*B4.csv\")"
   ]
  },
  {
   "cell_type": "code",
   "execution_count": 35,
   "metadata": {},
   "outputs": [
    {
     "data": {
      "text/plain": [
       "['C:\\\\Users\\\\masud\\\\Downloads\\\\trial\\\\10058B4.csv',\n",
       " 'C:\\\\Users\\\\masud\\\\Downloads\\\\trial\\\\10058B5.csv',\n",
       " 'C:\\\\Users\\\\masud\\\\Downloads\\\\trial\\\\10059B4.csv',\n",
       " 'C:\\\\Users\\\\masud\\\\Downloads\\\\trial\\\\10059B5.csv',\n",
       " 'C:\\\\Users\\\\masud\\\\Downloads\\\\trial\\\\10060B4.csv',\n",
       " 'C:\\\\Users\\\\masud\\\\Downloads\\\\trial\\\\10060B5.csv',\n",
       " 'C:\\\\Users\\\\masud\\\\Downloads\\\\trial\\\\10061B4.csv',\n",
       " 'C:\\\\Users\\\\masud\\\\Downloads\\\\trial\\\\10061B5.csv',\n",
       " 'C:\\\\Users\\\\masud\\\\Downloads\\\\trial\\\\10062B4.csv',\n",
       " 'C:\\\\Users\\\\masud\\\\Downloads\\\\trial\\\\10062B5.csv']"
      ]
     },
     "execution_count": 35,
     "metadata": {},
     "output_type": "execute_result"
    }
   ],
   "source": [
    "#all_files"
   ]
  },
  {
   "cell_type": "code",
   "execution_count": 58,
   "metadata": {},
   "outputs": [
    {
     "data": {
      "text/plain": [
       "'10062B5'"
      ]
     },
     "execution_count": 58,
     "metadata": {},
     "output_type": "execute_result"
    }
   ],
   "source": [
    "filename4= 'C:\\\\Users\\\\masud\\\\Downloads\\\\trial\\\\10062B5.csv'\n",
    "#filename.split(\"\\\\\")[-1]\n",
    "filename4.split(\"\\\\\")[-1].split(\".\")[0]\n",
    "\n"
   ]
  },
  {
   "cell_type": "code",
   "execution_count": 54,
   "metadata": {},
   "outputs": [
    {
     "data": {
      "text/plain": [
       "re.compile(r'\\d\\d\\d\\d\\B4', re.UNICODE)"
      ]
     },
     "execution_count": 54,
     "metadata": {},
     "output_type": "execute_result"
    }
   ],
   "source": [
    "a = re.compile(r'\\d\\d\\d\\d\\B4')"
   ]
  },
  {
   "cell_type": "code",
   "execution_count": 63,
   "metadata": {},
   "outputs": [
    {
     "data": {
      "text/plain": [
       "'C:\\\\Users\\\\masud\\\\Downloads\\\\trial\\\\10062B5.csv'"
      ]
     },
     "execution_count": 63,
     "metadata": {},
     "output_type": "execute_result"
    }
   ],
   "source": [
    "#1 .Using For loop method \n",
    "\n",
    "B4_alllist = []\n",
    "B5_alllist = []\n",
    "all_list = []\n",
    "for filename4 in B4:\n",
    "    split4 = filename4.split(\"\\\\\")[-1].split()[0]\n",
    "    for filename5 in B5:\n",
    "        split5 = filename5.split(\"\\\\\")[-1].split()[0]\n",
    "        if split5 == split4:\n",
    "\n",
    "    \n",
    "            df = pd.read_csv(filename4, sep=';', index_col=None, header=0)\n",
    "            all_list.append(df)\n",
    "all_list\n",
    "filename5"
   ]
  },
  {
   "cell_type": "code",
   "execution_count": 44,
   "metadata": {},
   "outputs": [
    {
     "data": {
      "text/html": [
       "<div>\n",
       "<style scoped>\n",
       "    .dataframe tbody tr th:only-of-type {\n",
       "        vertical-align: middle;\n",
       "    }\n",
       "\n",
       "    .dataframe tbody tr th {\n",
       "        vertical-align: top;\n",
       "    }\n",
       "\n",
       "    .dataframe thead th {\n",
       "        text-align: right;\n",
       "    }\n",
       "</style>\n",
       "<table border=\"1\" class=\"dataframe\">\n",
       "  <thead>\n",
       "    <tr style=\"text-align: right;\">\n",
       "      <th></th>\n",
       "      <th>10058</th>\n",
       "      <th>B4</th>\n",
       "      <th>Lengthpoints:</th>\n",
       "      <th>0</th>\n",
       "      <th>0.1</th>\n",
       "      <th>0.2</th>\n",
       "      <th>0.3</th>\n",
       "      <th>0.4</th>\n",
       "      <th>0.5</th>\n",
       "      <th>0.6</th>\n",
       "      <th>...</th>\n",
       "      <th>1847.6.6</th>\n",
       "      <th>1847.7.3</th>\n",
       "      <th>1847.7.4</th>\n",
       "      <th>1847.6.7</th>\n",
       "      <th>1843.9.9</th>\n",
       "      <th>1843.9.10</th>\n",
       "      <th>1843.5.6</th>\n",
       "      <th>1843.5.7</th>\n",
       "      <th>1843.5.8</th>\n",
       "      <th>Unnamed: 1158</th>\n",
       "    </tr>\n",
       "  </thead>\n",
       "  <tbody>\n",
       "  </tbody>\n",
       "</table>\n",
       "<p>0 rows × 8423 columns</p>\n",
       "</div>"
      ],
      "text/plain": [
       "Empty DataFrame\n",
       "Columns: [10058, B4, Lengthpoints:, 0, 0.1, 0.2, 0.3, 0.4, 0.5, 0.6, 0.7, 0.8, 0.9, 0.10, 0.11, 0.12, 0.13, 0.14, 0.15, 0.16, 0.17, 0.18, 0.19, 0.20, 0.21, 0.22, 0.23, 0.24, 0.25, 0.26, 0.27, 0.28, 0.29, 0.30, 0.31, 0.32, 0.33, 0.34, 0.35, 0.36, 0.37, 0.38, 0.2783003, 0.556488, 0.8348961, 1.113524, 1.392817, 1.672216, 1.951616, 2.231016, 2.510636, 2.790477, 3.070209, 3.350381, 3.630445, 3.910617, 4.191121, 4.471625, 4.752349, 5.033293, 5.314349, 5.595845, 5.877229, 6.158612, 6.440549, 6.722596, 7.005193, 7.287568, 7.569837, 7.852433, 8.13514, 8.417956, 8.700772, 8.984252, 9.26784, 9.55132, 9.835021, 10.11894, 10.40253, 10.68656, 10.97092, 11.25562, 11.53987, 11.82445, 12.10958, 12.39438, 12.67973, 12.96542, 13.2511, 13.53756, 13.82346, 14.11002, 14.39648, 14.68272, 14.96906, 15.25552, 15.54208, 15.82876, 16.11565, 16.40321, ...]\n",
       "Index: []\n",
       "\n",
       "[0 rows x 8423 columns]"
      ]
     },
     "execution_count": 44,
     "metadata": {},
     "output_type": "execute_result"
    }
   ],
   "source": [
    "#1 .Using For loop method \n",
    "\n",
    "all_list = []\n",
    "\n",
    "for filename in all_files:\n",
    "    if filename.split(\"\\\\\")[-1] == \"\":\n",
    "    \n",
    "    df = pd.read_csv(filename, sep=';', index_col=None, header=0)\n",
    "    all_list.append(df)\n",
    "\n",
    "#all_list  \n",
    "\n",
    "df = pd.concat(all_list, axis = 0, ignore_index=True)\n",
    "df"
   ]
  },
  {
   "cell_type": "code",
   "execution_count": 39,
   "metadata": {},
   "outputs": [
    {
     "name": "stdout",
     "output_type": "stream",
     "text": [
      "<class 'list'>\n"
     ]
    }
   ],
   "source": [
    "\n",
    "print(type(all_list)) "
   ]
  },
  {
   "cell_type": "code",
   "execution_count": 25,
   "metadata": {},
   "outputs": [
    {
     "data": {
      "text/html": [
       "<div>\n",
       "<style scoped>\n",
       "    .dataframe tbody tr th:only-of-type {\n",
       "        vertical-align: middle;\n",
       "    }\n",
       "\n",
       "    .dataframe tbody tr th {\n",
       "        vertical-align: top;\n",
       "    }\n",
       "\n",
       "    .dataframe thead th {\n",
       "        text-align: right;\n",
       "    }\n",
       "</style>\n",
       "<table border=\"1\" class=\"dataframe\">\n",
       "  <thead>\n",
       "    <tr style=\"text-align: right;\">\n",
       "      <th></th>\n",
       "      <th>0</th>\n",
       "      <th>1</th>\n",
       "      <th>2</th>\n",
       "      <th>3</th>\n",
       "      <th>4</th>\n",
       "      <th>5</th>\n",
       "      <th>6</th>\n",
       "      <th>7</th>\n",
       "      <th>8</th>\n",
       "      <th>9</th>\n",
       "      <th>...</th>\n",
       "      <th>11908</th>\n",
       "      <th>11909</th>\n",
       "      <th>11910</th>\n",
       "      <th>11911</th>\n",
       "      <th>11912</th>\n",
       "      <th>11913</th>\n",
       "      <th>11914</th>\n",
       "      <th>11915</th>\n",
       "      <th>11916</th>\n",
       "      <th>11917</th>\n",
       "    </tr>\n",
       "  </thead>\n",
       "  <tbody>\n",
       "  </tbody>\n",
       "</table>\n",
       "<p>0 rows × 11918 columns</p>\n",
       "</div>"
      ],
      "text/plain": [
       "Empty DataFrame\n",
       "Columns: [0, 1, 2, 3, 4, 5, 6, 7, 8, 9, 10, 11, 12, 13, 14, 15, 16, 17, 18, 19, 20, 21, 22, 23, 24, 25, 26, 27, 28, 29, 30, 31, 32, 33, 34, 35, 36, 37, 38, 39, 40, 41, 42, 43, 44, 45, 46, 47, 48, 49, 50, 51, 52, 53, 54, 55, 56, 57, 58, 59, 60, 61, 62, 63, 64, 65, 66, 67, 68, 69, 70, 71, 72, 73, 74, 75, 76, 77, 78, 79, 80, 81, 82, 83, 84, 85, 86, 87, 88, 89, 90, 91, 92, 93, 94, 95, 96, 97, 98, 99, ...]\n",
       "Index: []\n",
       "\n",
       "[0 rows x 11918 columns]"
      ]
     },
     "execution_count": 25,
     "metadata": {},
     "output_type": "execute_result"
    }
   ],
   "source": [
    "all_list = [pd.read_csv(filename,sep=';', index_col=None, header=0) for filename in all_files]\n",
    "\n",
    "df = pd.concat(all_list, axis=0, ignore_index=True)\n",
    "df"
   ]
  }
 ],
 "metadata": {
  "interpreter": {
   "hash": "c0ec2fa64e559bcf1e26b72294f8d7964640e4d45d429ea8cc58c0ee1727d470"
  },
  "kernelspec": {
   "display_name": "Python 3.10.1 64-bit",
   "language": "python",
   "name": "python3"
  },
  "language_info": {
   "codemirror_mode": {
    "name": "ipython",
    "version": 3
   },
   "file_extension": ".py",
   "mimetype": "text/x-python",
   "name": "python",
   "nbconvert_exporter": "python",
   "pygments_lexer": "ipython3",
   "version": "3.10.1"
  },
  "orig_nbformat": 4
 },
 "nbformat": 4,
 "nbformat_minor": 2
}

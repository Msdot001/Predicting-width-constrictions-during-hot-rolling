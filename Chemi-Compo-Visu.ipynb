{
 "cells": [
  {
   "cell_type": "code",
   "execution_count": 3,
   "metadata": {},
   "outputs": [],
   "source": [
    "import pandas as pd\n",
    "import numpy as np\n",
    "filename=\"CoilData.csv\"\n",
    "df = pd.read_csv(filename)"
   ]
  },
  {
   "cell_type": "code",
   "execution_count": 4,
   "metadata": {},
   "outputs": [
    {
     "name": "stdout",
     "output_type": "stream",
     "text": [
      "coil                                 396378\n",
      "furnace Number                            1\n",
      "analyse                               K371 \n",
      "Hardness_1                            10003\n",
      "Hardness_2                              101\n",
      "Width                                1302.1\n",
      "Temperature before finishing mill      1147\n",
      "Temperature after finishing mill        921\n",
      "Thickness                              4.36\n",
      "Thickness profile                        31\n",
      "c                                       355\n",
      "mn                                     2162\n",
      "si                                       49\n",
      "nb                                        0\n",
      "p                                       133\n",
      "s                                       143\n",
      "al                                      304\n",
      "ma                                      291\n",
      "b                                         1\n",
      "n                                        34\n",
      "ti                                        6\n",
      "cr                                      302\n",
      "va                                        0\n",
      "mo                                       25\n",
      "Name: 0, dtype: object\n"
     ]
    }
   ],
   "source": [
    "# Select Coil_396378 values\n",
    "\n",
    "Coil_396378=df.iloc[0]\n",
    "print(Coil_396378)\n"
   ]
  },
  {
   "cell_type": "code",
   "execution_count": 5,
   "metadata": {},
   "outputs": [
    {
     "name": "stdout",
     "output_type": "stream",
     "text": [
      "c      355\n",
      "mn    2162\n",
      "si      49\n",
      "nb       0\n",
      "p      133\n",
      "s      143\n",
      "al     304\n",
      "ma     291\n",
      "b        1\n",
      "n       34\n",
      "ti       6\n",
      "cr     302\n",
      "va       0\n",
      "Name: 0, dtype: object\n"
     ]
    }
   ],
   "source": [
    "# Seperate the Chemical components of Coil_396378\n",
    "Coil_396378_values=Coil_396378[10:-1]\n",
    "print(Coil_396378_values)\n"
   ]
  },
  {
   "cell_type": "code",
   "execution_count": 6,
   "metadata": {},
   "outputs": [
    {
     "name": "stdout",
     "output_type": "stream",
     "text": [
      "[355, 2162, 49, 0, 133, 143, 304, 291, 1, 34, 6, 302, 0]\n",
      "['c', 'mn', 'si', 'nb', 'p', 's', 'al', 'ma', 'b', 'n', 'ti', 'cr', 'va']\n"
     ]
    }
   ],
   "source": [
    "# Create two seperate list of chemical-name and their values \n",
    "y=list(Coil_396378_values)\n",
    "print(y)\n",
    "x=[\"c\",\"mn\",\"si\",\"nb\",\"p\",\"s\",\"al\",\"ma\",\"b\",\"n\",\"ti\",\"cr\",\"va\"]\n",
    "print(x)"
   ]
  },
  {
   "cell_type": "code",
   "execution_count": 7,
   "metadata": {},
   "outputs": [
    {
     "data": {
      "text/html": [
       "<div>\n",
       "<style scoped>\n",
       "    .dataframe tbody tr th:only-of-type {\n",
       "        vertical-align: middle;\n",
       "    }\n",
       "\n",
       "    .dataframe tbody tr th {\n",
       "        vertical-align: top;\n",
       "    }\n",
       "\n",
       "    .dataframe thead th {\n",
       "        text-align: right;\n",
       "    }\n",
       "</style>\n",
       "<table border=\"1\" class=\"dataframe\">\n",
       "  <thead>\n",
       "    <tr style=\"text-align: right;\">\n",
       "      <th></th>\n",
       "      <th>Comp_name</th>\n",
       "      <th>Comp_values</th>\n",
       "    </tr>\n",
       "  </thead>\n",
       "  <tbody>\n",
       "    <tr>\n",
       "      <th>0</th>\n",
       "      <td>c</td>\n",
       "      <td>355</td>\n",
       "    </tr>\n",
       "    <tr>\n",
       "      <th>1</th>\n",
       "      <td>mn</td>\n",
       "      <td>2162</td>\n",
       "    </tr>\n",
       "    <tr>\n",
       "      <th>2</th>\n",
       "      <td>si</td>\n",
       "      <td>49</td>\n",
       "    </tr>\n",
       "    <tr>\n",
       "      <th>3</th>\n",
       "      <td>nb</td>\n",
       "      <td>0</td>\n",
       "    </tr>\n",
       "    <tr>\n",
       "      <th>4</th>\n",
       "      <td>p</td>\n",
       "      <td>133</td>\n",
       "    </tr>\n",
       "    <tr>\n",
       "      <th>5</th>\n",
       "      <td>s</td>\n",
       "      <td>143</td>\n",
       "    </tr>\n",
       "    <tr>\n",
       "      <th>6</th>\n",
       "      <td>al</td>\n",
       "      <td>304</td>\n",
       "    </tr>\n",
       "    <tr>\n",
       "      <th>7</th>\n",
       "      <td>ma</td>\n",
       "      <td>291</td>\n",
       "    </tr>\n",
       "    <tr>\n",
       "      <th>8</th>\n",
       "      <td>b</td>\n",
       "      <td>1</td>\n",
       "    </tr>\n",
       "    <tr>\n",
       "      <th>9</th>\n",
       "      <td>n</td>\n",
       "      <td>34</td>\n",
       "    </tr>\n",
       "    <tr>\n",
       "      <th>10</th>\n",
       "      <td>ti</td>\n",
       "      <td>6</td>\n",
       "    </tr>\n",
       "    <tr>\n",
       "      <th>11</th>\n",
       "      <td>cr</td>\n",
       "      <td>302</td>\n",
       "    </tr>\n",
       "    <tr>\n",
       "      <th>12</th>\n",
       "      <td>va</td>\n",
       "      <td>0</td>\n",
       "    </tr>\n",
       "  </tbody>\n",
       "</table>\n",
       "</div>"
      ],
      "text/plain": [
       "   Comp_name  Comp_values\n",
       "0          c          355\n",
       "1         mn         2162\n",
       "2         si           49\n",
       "3         nb            0\n",
       "4          p          133\n",
       "5          s          143\n",
       "6         al          304\n",
       "7         ma          291\n",
       "8          b            1\n",
       "9          n           34\n",
       "10        ti            6\n",
       "11        cr          302\n",
       "12        va            0"
      ]
     },
     "execution_count": 7,
     "metadata": {},
     "output_type": "execute_result"
    }
   ],
   "source": [
    "# Create datafream with two lists \n",
    "d={\"Comp_name\":x, \"Comp_values\":y}\n",
    "df1= pd.DataFrame(d)\n",
    "df1"
   ]
  },
  {
   "cell_type": "code",
   "execution_count": 8,
   "metadata": {},
   "outputs": [
    {
     "data": {
      "image/png": "[encoded data removed]",
      "text/plain": [
       "<Figure size 432x288 with 1 Axes>"
      ]
     },
     "metadata": {
      "needs_background": "light"
     },
     "output_type": "display_data"
    }
   ],
   "source": [
    "# Create a bar chart of Chemical components for Coil_396378\n",
    "import matplotlib.pyplot as plt\n",
    "ax = df1.plot.bar(x='Comp_name', y='Comp_values', rot=0)"
   ]
  },
  {
   "cell_type": "code",
   "execution_count": 9,
   "metadata": {},
   "outputs": [
    {
     "data": {
      "image/png": "[encoded data removed]",
      "text/plain": [
       "<Figure size 648x576 with 1 Axes>"
      ]
     },
     "metadata": {
      "needs_background": "light"
     },
     "output_type": "display_data"
    }
   ],
   "source": [
    "# Create a bar chart of Chemical components for Coil_396378\n",
    "import matplotlib.pyplot as plt\n",
    "df1.plot(x='Comp_name', y='Comp_values', kind=\"bar\",figsize=(9,8))\n",
    "plt.show()\n"
   ]
  },
  {
   "cell_type": "code",
   "execution_count": 10,
   "metadata": {},
   "outputs": [
    {
     "data": {
      "text/html": [
       "<div>\n",
       "<style scoped>\n",
       "    .dataframe tbody tr th:only-of-type {\n",
       "        vertical-align: middle;\n",
       "    }\n",
       "\n",
       "    .dataframe tbody tr th {\n",
       "        vertical-align: top;\n",
       "    }\n",
       "\n",
       "    .dataframe thead th {\n",
       "        text-align: right;\n",
       "    }\n",
       "</style>\n",
       "<table border=\"1\" class=\"dataframe\">\n",
       "  <thead>\n",
       "    <tr style=\"text-align: right;\">\n",
       "      <th></th>\n",
       "      <th>coil</th>\n",
       "      <th>c</th>\n",
       "      <th>mn</th>\n",
       "      <th>si</th>\n",
       "      <th>nb</th>\n",
       "      <th>p</th>\n",
       "      <th>s</th>\n",
       "      <th>al</th>\n",
       "      <th>ma</th>\n",
       "      <th>b</th>\n",
       "      <th>n</th>\n",
       "      <th>ti</th>\n",
       "      <th>cr</th>\n",
       "      <th>va</th>\n",
       "    </tr>\n",
       "  </thead>\n",
       "  <tbody>\n",
       "    <tr>\n",
       "      <th>0</th>\n",
       "      <td>396378</td>\n",
       "      <td>355</td>\n",
       "      <td>2162</td>\n",
       "      <td>49</td>\n",
       "      <td>0</td>\n",
       "      <td>133</td>\n",
       "      <td>143</td>\n",
       "      <td>304</td>\n",
       "      <td>291</td>\n",
       "      <td>1</td>\n",
       "      <td>34</td>\n",
       "      <td>6</td>\n",
       "      <td>302</td>\n",
       "      <td>0</td>\n",
       "    </tr>\n",
       "    <tr>\n",
       "      <th>1</th>\n",
       "      <td>396376</td>\n",
       "      <td>551</td>\n",
       "      <td>1985</td>\n",
       "      <td>101</td>\n",
       "      <td>0</td>\n",
       "      <td>118</td>\n",
       "      <td>90</td>\n",
       "      <td>395</td>\n",
       "      <td>384</td>\n",
       "      <td>1</td>\n",
       "      <td>33</td>\n",
       "      <td>12</td>\n",
       "      <td>189</td>\n",
       "      <td>25</td>\n",
       "    </tr>\n",
       "    <tr>\n",
       "      <th>2</th>\n",
       "      <td>396377</td>\n",
       "      <td>457</td>\n",
       "      <td>1895</td>\n",
       "      <td>60</td>\n",
       "      <td>0</td>\n",
       "      <td>108</td>\n",
       "      <td>115</td>\n",
       "      <td>476</td>\n",
       "      <td>463</td>\n",
       "      <td>1</td>\n",
       "      <td>20</td>\n",
       "      <td>11</td>\n",
       "      <td>288</td>\n",
       "      <td>0</td>\n",
       "    </tr>\n",
       "    <tr>\n",
       "      <th>3</th>\n",
       "      <td>396379</td>\n",
       "      <td>697</td>\n",
       "      <td>2008</td>\n",
       "      <td>69</td>\n",
       "      <td>0</td>\n",
       "      <td>139</td>\n",
       "      <td>98</td>\n",
       "      <td>306</td>\n",
       "      <td>296</td>\n",
       "      <td>1</td>\n",
       "      <td>21</td>\n",
       "      <td>9</td>\n",
       "      <td>253</td>\n",
       "      <td>0</td>\n",
       "    </tr>\n",
       "    <tr>\n",
       "      <th>4</th>\n",
       "      <td>396380</td>\n",
       "      <td>477</td>\n",
       "      <td>1936</td>\n",
       "      <td>52</td>\n",
       "      <td>0</td>\n",
       "      <td>112</td>\n",
       "      <td>121</td>\n",
       "      <td>340</td>\n",
       "      <td>329</td>\n",
       "      <td>1</td>\n",
       "      <td>28</td>\n",
       "      <td>8</td>\n",
       "      <td>297</td>\n",
       "      <td>0</td>\n",
       "    </tr>\n",
       "  </tbody>\n",
       "</table>\n",
       "</div>"
      ],
      "text/plain": [
       "     coil    c    mn   si  nb    p    s   al   ma  b   n  ti   cr  va\n",
       "0  396378  355  2162   49   0  133  143  304  291  1  34   6  302   0\n",
       "1  396376  551  1985  101   0  118   90  395  384  1  33  12  189  25\n",
       "2  396377  457  1895   60   0  108  115  476  463  1  20  11  288   0\n",
       "3  396379  697  2008   69   0  139   98  306  296  1  21   9  253   0\n",
       "4  396380  477  1936   52   0  112  121  340  329  1  28   8  297   0"
      ]
     },
     "execution_count": 10,
     "metadata": {},
     "output_type": "execute_result"
    }
   ],
   "source": [
    "# Create Plot for One chemical  \n",
    "df_C=df[['coil', 'c']].head(5)\n",
    "df_mn=df[['coil', 'mn']].head(5)\n",
    "df_components=df[['coil','c', 'mn', 'si', 'nb', 'p', 's', 'al', 'ma', 'b', 'n', 'ti', 'cr', 'va']].head(5)\n",
    "df_components\n"
   ]
  },
  {
   "cell_type": "code",
   "execution_count": 11,
   "metadata": {},
   "outputs": [
    {
     "data": {
      "text/plain": [
       "<AxesSubplot:xlabel='coil'>"
      ]
     },
     "execution_count": 11,
     "metadata": {},
     "output_type": "execute_result"
    },
    {
     "data": {
      "image/png": "[encoded data removed]",
      "text/plain": [
       "<Figure size 648x576 with 1 Axes>"
      ]
     },
     "metadata": {
      "needs_background": "light"
     },
     "output_type": "display_data"
    }
   ],
   "source": [
    "# Create Plot of One chemical component for Whole Coil-Datasets\n",
    "df_mn.plot(x='coil', y='mn', kind=\"bar\",figsize=(9,8))"
   ]
  },
  {
   "cell_type": "code",
   "execution_count": 12,
   "metadata": {},
   "outputs": [
    {
     "data": {
      "image/png": "[encoded data removed]",
      "text/plain": [
       "<Figure size 648x576 with 1 Axes>"
      ]
     },
     "metadata": {
      "needs_background": "light"
     },
     "output_type": "display_data"
    }
   ],
   "source": [
    "# Create Plot of all chemical components for Whole Coil-Datasets\n",
    "df_components.plot(x='coil', y=['c','mn', 'si', 'nb', 'p', 's', 'al', 'ma', 'b', 'n', 'ti', 'cr', 'va'], kind=\"bar\",figsize=(9,8))\n",
    "plt.show()"
   ]
  },
  {
   "cell_type": "code",
   "execution_count": 13,
   "metadata": {},
   "outputs": [
    {
     "data": {
      "image/png": "[encoded data removed]",
      "text/plain": [
       "<Figure size 720x576 with 1 Axes>"
      ]
     },
     "metadata": {
      "needs_background": "light"
     },
     "output_type": "display_data"
    }
   ],
   "source": [
    "import pandas as pd\n",
    "import matplotlib.pyplot as plt\n",
    "\n",
    "\n",
    "df_components.plot(x='coil',y=['c','mn', 'si', 'nb', 'p', 's', 'al', 'ma', 'b', 'n', 'ti', 'cr', 'va'], kind=\"bar\",stacked=True,figsize=(10,8))\n",
    "plt.legend(loc=\"lower left\",bbox_to_anchor=(0.8,1.0))\n",
    "plt.show()"
   ]
  }
 ],
 "metadata": {
  "interpreter": {
   "hash": "fe3d704688c62587511458d9f9a3a7a6871936722b4b79cb8b4b2f9de3c4452d"
  },
  "kernelspec": {
   "display_name": "Python 3.9.7 ('Challenge-Collecting-Data')",
   "language": "python",
   "name": "python3"
  },
  "language_info": {
   "codemirror_mode": {
    "name": "ipython",
    "version": 3
   },
   "file_extension": ".py",
   "mimetype": "text/x-python",
   "name": "python",
   "nbconvert_exporter": "python",
   "pygments_lexer": "ipython3",
   "version": "3.9.7"
  },
  "orig_nbformat": 4
 },
 "nbformat": 4,
 "nbformat_minor": 2
}
